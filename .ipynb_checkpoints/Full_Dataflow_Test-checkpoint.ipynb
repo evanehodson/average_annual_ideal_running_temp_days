{
 "cells": [
  {
   "cell_type": "markdown",
   "id": "4d61d9d1-cce3-442e-a29e-c43961d3e3a4",
   "metadata": {},
   "source": [
    "## Need to figure out how to get timezones"
   ]
  },
  {
   "cell_type": "code",
   "execution_count": 1,
   "id": "169fef5c-b38d-48e5-8ad7-3a6105e10cbf",
   "metadata": {
    "editable": true,
    "slideshow": {
     "slide_type": ""
    },
    "tags": []
   },
   "outputs": [
    {
     "name": "stdout",
     "output_type": "stream",
     "text": [
      "Warning: The file station_data\\PACX_data.csv is empty. Returning a default ICAO code.\n",
      "Warning: The file station_data\\PANU_data.csv is empty. Returning a default ICAO code.\n",
      "Warning: The file station_data\\PAPE_data.csv is empty. Returning a default ICAO code.\n",
      "Warning: The file station_data\\PFCB_data.csv is empty. Returning a default ICAO code.\n",
      "Warning: The file station_data\\PFKO_data.csv is empty. Returning a default ICAO code.\n",
      "Warning: The file station_data\\PFZK_data.csv is empty. Returning a default ICAO code.\n",
      "Warning: The file station_data\\.ipynb_checkpoints\\PFKO_data-checkpoint.csv is empty. Returning a default ICAO code.\n",
      "Warning: The file station_data\\.ipynb_checkpoints\\PFZK_data-checkpoint.csv is empty. Returning a default ICAO code.\n",
      "Results written to output/results.csv\n"
     ]
    }
   ],
   "source": [
    "import aairtd as ird\n",
    "import os\n",
    "\n",
    "def file_paths_to_dict_with_constant_value(file_paths, constant_value):\n",
    "    \"\"\"\n",
    "    Convert a list of file paths into a dictionary with the full path as key and a constant value.\n",
    "    \n",
    "    Parameters:\n",
    "    - file_paths: List of file paths to be used as keys.\n",
    "    - constant_value: The value to assign to each key in the dictionary.\n",
    "\n",
    "    Returns:\n",
    "    - A dictionary where each full file path has the constant value.\n",
    "    \"\"\"\n",
    "    station_data_dict = {}\n",
    "    \n",
    "    for file_path in file_paths:\n",
    "        # Use the full file path as the key\n",
    "        station_data_dict[file_path] = constant_value\n",
    "        \n",
    "    return station_data_dict\n",
    "\n",
    "# Example usage\n",
    "directory = \"station_data\"  # Ensure the directory is correct\n",
    "file_paths = ird.get_file_paths(directory)  # This should return a list of file paths\n",
    "constant_value = \"US/Central\"\n",
    "dataset = file_paths_to_dict_with_constant_value(file_paths, constant_value)\n",
    "ird.write_all_results_to_csv(dataset, output_path=\"output/results.csv\")"
   ]
  },
  {
   "cell_type": "code",
   "execution_count": null,
   "id": "3a2330e5-312a-4835-b1ba-04f211791f65",
   "metadata": {},
   "outputs": [],
   "source": []
  }
 ],
 "metadata": {
  "kernelspec": {
   "display_name": "Python 3 (ipykernel)",
   "language": "python",
   "name": "python3"
  },
  "language_info": {
   "codemirror_mode": {
    "name": "ipython",
    "version": 3
   },
   "file_extension": ".py",
   "mimetype": "text/x-python",
   "name": "python",
   "nbconvert_exporter": "python",
   "pygments_lexer": "ipython3",
   "version": "3.12.7"
  }
 },
 "nbformat": 4,
 "nbformat_minor": 5
}
