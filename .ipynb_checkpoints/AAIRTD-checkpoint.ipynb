{
 "cells": [
  {
   "cell_type": "code",
   "execution_count": 10,
   "id": "053a15e9-48c4-4f58-a3ca-748259242fab",
   "metadata": {},
   "outputs": [
    {
     "name": "stdout",
     "output_type": "stream",
     "text": [
      "Average number of days per year with at least one measurement between 50 and 55 degrees: 192\n"
     ]
    }
   ],
   "source": [
    "import pandas as pd\n",
    "\n",
    "# Pull up and read the CSV file\n",
    "file_path = r'C:\\Users\\evane\\OneDrive\\Desktop\\Personal Research\\Santa_Fe_Hourly_Feel_2014-2024.csv'\n",
    "data = pd.read_csv(file_path)\n",
    "\n",
    "# Convert the 'feel' column to numeric\n",
    "data['feel'] = pd.to_numeric(data['feel'], errors='coerce')\n",
    "\n",
    "# Convert the 'valid' column to datetime\n",
    "data['valid'] = pd.to_datetime(data['valid'])\n",
    "\n",
    "# Create a new column for the date only (without time)\n",
    "data['date'] = data['valid'].dt.date\n",
    "\n",
    "# Filter the DataFrame for entries with 'feel' between 50 and 55\n",
    "filtered_data = data[(data['feel'] >= 50) & (data['feel'] <= 55)]\n",
    "\n",
    "# Group by the date and count the number of unique dates where there is at least one valid entry\n",
    "count_days = filtered_data['date'].nunique()\n",
    "\n",
    "# Calculate the number of years in the dataset\n",
    "start_year = data['valid'].dt.year.min()\n",
    "end_year = data['valid'].dt.year.max()\n",
    "num_years = end_year - start_year + 1\n",
    "\n",
    "# Calculate the average number of days per year\n",
    "average_days_per_year = count_days / num_years\n",
    "\n",
    "# Display the average\n",
    "print(f'Average number of days per year with at least one measurement between 50 and 55 degrees: {average_days_per_year:.0f}')"
   ]
  },
  {
   "cell_type": "markdown",
   "id": "2945c58c-27a5-409f-82fb-be12f2f18ae4",
   "metadata": {},
   "source": [
    "Let's turn this into a function so we can do the same thing for all our other data"
   ]
  },
  {
   "cell_type": "code",
   "execution_count": 13,
   "id": "cacab752-575b-44fe-83a7-7ea84d141d60",
   "metadata": {},
   "outputs": [
    {
     "name": "stdout",
     "output_type": "stream",
     "text": [
      "Average ideal run temperature days for Santa: 192\n",
      "Average ideal run temperature days for Laramie: 186\n",
      "Average ideal run temperature days for Cheyenne: 179\n",
      "Average ideal run temperature days for Colorado: 182\n",
      "Average ideal run temperature days for Castle: 178\n",
      "Average ideal run temperature days for Flagstaff: 217\n"
     ]
    }
   ],
   "source": [
    "import pandas as pd\n",
    "\n",
    "# Define your file paths\n",
    "file_paths = [\n",
    "    r'C:\\Users\\evane\\OneDrive\\Desktop\\Personal Research\\average_annual_ideal_running_temp_days\\Santa_Fe_Hourly_Feel_2014-2024.csv',\n",
    "    r'C:\\Users\\evane\\OneDrive\\Desktop\\Personal Research\\average_annual_ideal_running_temp_days\\Laramie_Hourly_Feel_2014-2024.csv',\n",
    "    r'C:\\Users\\evane\\OneDrive\\Desktop\\Personal Research\\average_annual_ideal_running_temp_days\\Cheyenne_Hourly_Feel_2014-2024.csv',\n",
    "    r'C:\\Users\\evane\\OneDrive\\Desktop\\Personal Research\\average_annual_ideal_running_temp_days\\Colorado_Springs_Hourly_Feel_2014-2024.csv',\n",
    "    r'C:\\Users\\evane\\OneDrive\\Desktop\\Personal Research\\average_annual_ideal_running_temp_days\\Castle_Rock_Hourly_Feel_2014-2024.csv',\n",
    "    r'C:\\Users\\evane\\OneDrive\\Desktop\\Personal Research\\average_annual_ideal_running_temp_days\\Flagstaff_Hourly_Feel_2014-2024.csv'\n",
    "]\n",
    "\n",
    "# Same process as above, just turned into a function\n",
    "def average_annual_ideal_run_temp_days(file_path):\n",
    "    data = pd.read_csv(file_path)\n",
    "    data['feel'] = pd.to_numeric(data['feel'], errors='coerce')\n",
    "    data['valid'] = pd.to_datetime(data['valid'])\n",
    "    data['date'] = data['valid'].dt.date\n",
    "    filtered_data = data[(data['feel'] >= 50) & (data['feel'] <= 55)]\n",
    "    count_days = filtered_data['date'].nunique()\n",
    "    start_year = data['valid'].dt.year.min()\n",
    "    end_year = data['valid'].dt.year.max()\n",
    "    num_years = end_year - start_year + 1\n",
    "    average_days_per_year = count_days / num_years\n",
    "    return average_days_per_year\n",
    "\n",
    "# Store the results in a dictionary\n",
    "results = {}\n",
    "\n",
    "# Loop through the file paths and call the function\n",
    "for file_path in file_paths:\n",
    "    city_name = file_path.split('\\\\')[-1].split('_')[0]  # Extract city name from file path\n",
    "    average_days = average_annual_ideal_run_temp_days(file_path)\n",
    "    results[city_name] = average_days\n",
    "\n",
    "# Print the results\n",
    "for city, avg_days in results.items():\n",
    "    print(f\"Average ideal run temperature days for {city}: {avg_days:.0f}\")"
   ]
  },
  {
   "cell_type": "code",
   "execution_count": null,
   "id": "17f65608-c5ea-4ebb-ac75-804bb4dd176c",
   "metadata": {},
   "outputs": [],
   "source": []
  }
 ],
 "metadata": {
  "kernelspec": {
   "display_name": "Python 3 (ipykernel)",
   "language": "python",
   "name": "python3"
  },
  "language_info": {
   "codemirror_mode": {
    "name": "ipython",
    "version": 3
   },
   "file_extension": ".py",
   "mimetype": "text/x-python",
   "name": "python",
   "nbconvert_exporter": "python",
   "pygments_lexer": "ipython3",
   "version": "3.12.7"
  }
 },
 "nbformat": 4,
 "nbformat_minor": 5
}
