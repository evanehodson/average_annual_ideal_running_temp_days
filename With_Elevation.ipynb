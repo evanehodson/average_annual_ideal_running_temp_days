{
 "cells": [
  {
   "cell_type": "markdown",
   "id": "dec7cc51-b223-4acd-a64f-5e3459948c44",
   "metadata": {},
   "source": [
    "# Min-Max Scaling"
   ]
  },
  {
   "cell_type": "code",
   "execution_count": 1,
   "id": "e5c33b1b-caf8-42cd-b229-d5eaf0e656b2",
   "metadata": {},
   "outputs": [
    {
     "name": "stdout",
     "output_type": "stream",
     "text": [
      "      AIRD  ELEVATION (m)  Final Score\n",
      "0      250         1344.0     1.052396\n",
      "1      151          224.0     0.486719\n",
      "2        0          282.0     0.083528\n",
      "3        0          320.0     0.093417\n",
      "4        0          334.0     0.097060\n",
      "...    ...            ...          ...\n",
      "2217   190         1664.0     0.969459\n",
      "2218   225            1.0     0.633677\n",
      "2219   103          236.0     0.356877\n",
      "2220   149            5.0     0.424192\n",
      "2221   195            4.0     0.551355\n",
      "\n",
      "[2222 rows x 3 columns]\n"
     ]
    }
   ],
   "source": [
    "import pandas as pd\n",
    "\n",
    "# Step 1: Read the CSV file\n",
    "file_path = 'AIRD_Elevation_Joined.csv'  # Replace with your file path\n",
    "data = pd.read_csv(file_path)\n",
    "\n",
    "# Step 2: Extract the relevant columns\n",
    "air_days = data['AIRD']\n",
    "elevation = data['ELEVATION (m)']\n",
    "\n",
    "# Step 3: Min-max scaling function\n",
    "def min_max_scaling(series):\n",
    "    min_val = series.min()\n",
    "    max_val = series.max()\n",
    "    scaled = (series - min_val) / (max_val - min_val)\n",
    "    return scaled\n",
    "\n",
    "# Apply the scaling\n",
    "scaled_air_days = min_max_scaling(air_days)\n",
    "scaled_elevation = min_max_scaling(elevation)\n",
    "\n",
    "# Step 4: Calculate the final score\n",
    "data['Final Score'] = scaled_air_days + scaled_elevation\n",
    "\n",
    "# Optional: Save the results to a new CSV file\n",
    "data.to_csv('scaled_results.csv', index=False)\n",
    "\n",
    "print(data[['AIRD', 'ELEVATION (m)', 'Final Score']])"
   ]
  },
  {
   "cell_type": "code",
   "execution_count": 2,
   "id": "eab0ead0-0032-4011-91e3-8bc4d71ce3f8",
   "metadata": {},
   "outputs": [
    {
     "name": "stdout",
     "output_type": "stream",
     "text": [
      "          STATION NAME                                 STATE  Final Score\n",
      "1026           Alamosa    Colorado, United States Of America     1.317520\n",
      "1797         Del Norte    Colorado, United States Of America     1.315245\n",
      "1293            Gallup  New Mexico, United States Of America     1.312763\n",
      "1616            Salida    Colorado, United States Of America     1.307649\n",
      "1599        Angel Fire  New Mexico, United States Of America     1.303450\n",
      "562        Window Rock     Arizona, United States Of America     1.301380\n",
      "178             Grants  New Mexico, United States Of America     1.297536\n",
      "1219  Telluride Region    Colorado, United States Of America     1.293434\n",
      "1912     Big Bear City  California, United States Of America     1.291861\n",
      "879           Moriarty  New Mexico, United States Of America     1.290645\n"
     ]
    }
   ],
   "source": [
    "import pandas as pd\n",
    "\n",
    "# Load the data with 'Final Score', 'STATION NAME', and 'STATE' columns\n",
    "aairtd_dataframe = pd.read_csv(\"scaled_results.csv\", usecols=[\"Final Score\", \"STATION NAME\", \"STATE\"])\n",
    "\n",
    "# Get the top 10 rows with the largest values in the 'Final Score' column\n",
    "top_10_places = aairtd_dataframe.nlargest(10, 'Final Score')\n",
    "\n",
    "# Print the results\n",
    "print(top_10_places)"
   ]
  },
  {
   "cell_type": "code",
   "execution_count": 4,
   "id": "0e52cedf-a082-49b5-8302-91ca9e2794fe",
   "metadata": {},
   "outputs": [
    {
     "name": "stdout",
     "output_type": "stream",
     "text": [
      "          STATION NAME                                 STATE  Final Score  \\\n",
      "2003  Murrieta/Temecul  California, United States Of America     1.791859   \n",
      "1960             Hemet  California, United States Of America     1.735809   \n",
      "1775   Riverside/March  California, United States Of America     1.731263   \n",
      "1551       San Andreas  California, United States Of America     1.692083   \n",
      "561             Ramona  California, United States Of America     1.668279   \n",
      "1626       Auburn Muni  California, United States Of America     1.619545   \n",
      "685            Medford      Oregon, United States Of America     1.597874   \n",
      "1493   Lowell/Elk City       Idaho, United States Of America     1.575276   \n",
      "1664       Grants Pass      Oregon, United States Of America     1.570584   \n",
      "2128          Lewiston       Idaho, United States Of America     1.564302   \n",
      "\n",
      "      ELEVATION (m)  AIRD  \n",
      "2003          406.0   303  \n",
      "1960          462.0   286  \n",
      "1775          454.0   279  \n",
      "1551          400.0   271  \n",
      "561           423.0   247  \n",
      "1626          453.0   238  \n",
      "685           397.0   239  \n",
      "1493          447.0   218  \n",
      "1664          339.0   268  \n",
      "2128          435.0   206  \n"
     ]
    }
   ],
   "source": [
    "import pandas as pd\n",
    "\n",
    "# Load the data with both 'AIRD' and 'ELEVATION (m)' columns\n",
    "file_path = 'AIRD_Elevation_Joined.csv'  # Replace with your file path\n",
    "data = pd.read_csv(file_path)\n",
    "\n",
    "# Step 1: Extract the relevant columns\n",
    "elevation = data['ELEVATION (m)']\n",
    "\n",
    "# Step 2: Calculate mean and standard deviation\n",
    "mean_elevation = elevation.mean()\n",
    "std_dev_elevation = elevation.std()\n",
    "\n",
    "# Step 3: Define the ideal range\n",
    "ideal_min = 1500\n",
    "ideal_max = 3000\n",
    "\n",
    "# Step 4: Calculate the scores for the elevation based on z-scores\n",
    "def elevation_score(elev):\n",
    "    if elev < ideal_min or elev > ideal_max:\n",
    "        # Calculate z-score\n",
    "        z_score = (elev - mean_elevation) / std_dev_elevation\n",
    "        # Penalize the score based on how far the elevation is from the mean\n",
    "        return 1 - abs(z_score)  # This will give lower scores for extremes\n",
    "    else:\n",
    "        # Scale positively within the ideal range\n",
    "        return (elev - ideal_min) / (ideal_max - ideal_min)  # Scale to 0-1\n",
    "\n",
    "# Apply the scoring function\n",
    "data['Elevation Score'] = elevation.apply(elevation_score)\n",
    "\n",
    "# Step 5: Min-max scaling for 'AIRD' column\n",
    "def min_max_scaling(series):\n",
    "    min_val = series.min()\n",
    "    max_val = series.max()\n",
    "    scaled = (series - min_val) / (max_val - min_val)\n",
    "    return scaled\n",
    "\n",
    "# Apply the scaling to 'AIRD'\n",
    "scaled_air_days = min_max_scaling(data['AIRD'])\n",
    "\n",
    "# Step 6: Calculate the final score\n",
    "data['Final Score'] = scaled_air_days + data['Elevation Score']\n",
    "\n",
    "# Optional: Get the top 10 places based on the final score\n",
    "top_10_places = data.nlargest(10, 'Final Score')[['STATION NAME', 'STATE', 'Final Score', 'ELEVATION (m)', 'AIRD']]\n",
    "\n",
    "# Print the results\n",
    "print(top_10_places)"
   ]
  },
  {
   "cell_type": "code",
   "execution_count": 1,
   "id": "e45c2ddf-6f0d-407a-9e71-dec1112a6005",
   "metadata": {},
   "outputs": [
    {
     "name": "stdout",
     "output_type": "stream",
     "text": [
      "       STATION NAME                                 STATE  Final Score  \\\n",
      "879        Moriarty  New Mexico, United States Of America     1.789474   \n",
      "1293         Gallup  New Mexico, United States Of America     1.789474   \n",
      "565           Raton  New Mexico, United States Of America     1.775623   \n",
      "178          Grants  New Mexico, United States Of America     1.770083   \n",
      "562     Window Rock     Arizona, United States Of America     1.756233   \n",
      "573        Santa Fe  New Mexico, United States Of America     1.745152   \n",
      "1912  Big Bear City  California, United States Of America     1.745152   \n",
      "486     Silver City  New Mexico, United States Of America     1.736842   \n",
      "1392         Cortez    Colorado, United States Of America     1.734072   \n",
      "326           Marfa       Texas, United States Of America     1.726382   \n",
      "\n",
      "      ELEVATION (m)  AIRD  \n",
      "879          1887.0   285  \n",
      "1293         1972.0   285  \n",
      "565          1939.0   280  \n",
      "178          1988.0   278  \n",
      "562          2056.0   273  \n",
      "573          1918.0   269  \n",
      "1912         2062.0   269  \n",
      "486          1638.0   266  \n",
      "1392         1801.0   265  \n",
      "326          1476.0   268  \n",
      "Results saved to scaled_results.csv\n"
     ]
    }
   ],
   "source": [
    "import pandas as pd\n",
    "\n",
    "# Load the data with both 'AIRD' and 'ELEVATION (m)' columns\n",
    "file_path = 'AIRD_Elevation_Joined.csv'  # Replace with your file path\n",
    "data = pd.read_csv(file_path)\n",
    "\n",
    "# Step 1: Extract the relevant columns\n",
    "elevation = data['ELEVATION (m)']\n",
    "\n",
    "# Step 2: Define the ideal range\n",
    "ideal_min = 1500\n",
    "ideal_max = 3000\n",
    "\n",
    "# Step 3: Calculate the scores for the elevation\n",
    "def elevation_score(elev):\n",
    "    if ideal_min <= elev <= ideal_max:\n",
    "        return 1  # Maximum score for ideal range\n",
    "    else:\n",
    "        # Linear drop-off scoring outside the ideal range\n",
    "        if elev < ideal_min:\n",
    "            # Calculate penalty based on distance from ideal_min\n",
    "            penalty = (ideal_min - elev) / ideal_min\n",
    "        else:  # elev > ideal_max\n",
    "            # Calculate penalty based on distance from ideal_max\n",
    "            penalty = (elev - ideal_max) / ideal_min\n",
    "        return max(0, 1 - penalty)  # Ensure score doesn't drop below 0\n",
    "\n",
    "# Apply the scoring function\n",
    "data['Elevation Score'] = elevation.apply(elevation_score)\n",
    "\n",
    "# Step 4: Min-max scaling for 'AIRD' column\n",
    "def min_max_scaling(series):\n",
    "    min_val = series.min()\n",
    "    max_val = series.max()\n",
    "    scaled = (series - min_val) / (max_val - min_val)\n",
    "    return scaled\n",
    "\n",
    "# Apply the scaling to 'AIRD'\n",
    "scaled_air_days = min_max_scaling(data['AIRD'])\n",
    "\n",
    "# Step 5: Calculate the final score\n",
    "data['Final Score'] = scaled_air_days + data['Elevation Score']\n",
    "\n",
    "# Optional: Get the top 10 places based on the final score\n",
    "top_10_places = data.nlargest(10, 'Final Score')[['STATION NAME', 'STATE', 'Final Score', 'ELEVATION (m)', 'AIRD']]\n",
    "\n",
    "# Print the results to console\n",
    "print(top_10_places)\n",
    "\n",
    "# Save the entire DataFrame to a CSV file\n",
    "output_file_path = 'scaled_results.csv'  # Specify the output file path\n",
    "data.to_csv(output_file_path, index=False)  # Save without the index\n",
    "\n",
    "print(f\"Results saved to {output_file_path}\")"
   ]
  },
  {
   "cell_type": "code",
   "execution_count": 5,
   "id": "f7e51110-48da-4a3f-bebc-b82df0ac6c16",
   "metadata": {},
   "outputs": [
    {
     "name": "stdout",
     "output_type": "stream",
     "text": [
      "137\n"
     ]
    }
   ],
   "source": [
    "import pandas as pd\n",
    "\n",
    "# Load the CSV file\n",
    "data = pd.read_csv(\"scaled_results.csv\")\n",
    "\n",
    "# Count the number of rows where \"Elevation Score\" is 1\n",
    "count_of_ones = (data[\"Elevation Score\"] == 1).sum()\n",
    "\n",
    "print(count_of_ones)"
   ]
  },
  {
   "cell_type": "code",
   "execution_count": null,
   "id": "ec8d0a11-47f4-4f17-8448-d457eec3c0ed",
   "metadata": {},
   "outputs": [],
   "source": []
  }
 ],
 "metadata": {
  "kernelspec": {
   "display_name": "Python 3 (ipykernel)",
   "language": "python",
   "name": "python3"
  },
  "language_info": {
   "codemirror_mode": {
    "name": "ipython",
    "version": 3
   },
   "file_extension": ".py",
   "mimetype": "text/x-python",
   "name": "python",
   "nbconvert_exporter": "python",
   "pygments_lexer": "ipython3",
   "version": "3.12.7"
  }
 },
 "nbformat": 4,
 "nbformat_minor": 5
}
