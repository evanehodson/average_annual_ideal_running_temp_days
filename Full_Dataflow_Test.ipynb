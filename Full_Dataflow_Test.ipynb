{
 "cells": [
  {
   "cell_type": "markdown",
   "id": "4d61d9d1-cce3-442e-a29e-c43961d3e3a4",
   "metadata": {
    "editable": true,
    "slideshow": {
     "slide_type": ""
    },
    "tags": []
   },
   "source": [
    "## Need to figure out how to pull timezones from file\n",
    "NOAA_METAR_CONTIG_US_Stations_plus_TZID.csv\n",
    "\n",
    "## Need to limit study to Contiguous US\n",
    "Is this as simple as changing the states list?"
   ]
  },
  {
   "cell_type": "code",
   "execution_count": 1,
   "id": "169fef5c-b38d-48e5-8ad7-3a6105e10cbf",
   "metadata": {
    "editable": true,
    "slideshow": {
     "slide_type": ""
    },
    "tags": []
   },
   "outputs": [
    {
     "name": "stdout",
     "output_type": "stream",
     "text": [
      "Warning: The file station_data\\PACX_data.csv is empty. Returning a default ICAO code.\n",
      "Warning: The file station_data\\PANU_data.csv is empty. Returning a default ICAO code.\n",
      "Warning: The file station_data\\PAPE_data.csv is empty. Returning a default ICAO code.\n",
      "Warning: The file station_data\\PFCB_data.csv is empty. Returning a default ICAO code.\n",
      "Warning: The file station_data\\PFKO_data.csv is empty. Returning a default ICAO code.\n",
      "Warning: The file station_data\\PFZK_data.csv is empty. Returning a default ICAO code.\n",
      "Warning: The file station_data\\.ipynb_checkpoints\\PFKO_data-checkpoint.csv is empty. Returning a default ICAO code.\n",
      "Warning: The file station_data\\.ipynb_checkpoints\\PFZK_data-checkpoint.csv is empty. Returning a default ICAO code.\n",
      "Results written to output/results.csv\n"
     ]
    }
   ],
   "source": [
    "import aairtd as ird\n",
    "import os\n",
    "\n",
    "def file_paths_to_dict_with_constant_value(file_paths, constant_value):\n",
    "    \"\"\"\n",
    "    Convert a list of file paths into a dictionary with the full path as key and a constant value.\n",
    "    \n",
    "    Parameters:\n",
    "    - file_paths: List of file paths to be used as keys.\n",
    "    - constant_value: The value to assign to each key in the dictionary.\n",
    "\n",
    "    Returns:\n",
    "    - A dictionary where each full file path has the constant value.\n",
    "    \"\"\"\n",
    "    station_data_dict = {}\n",
    "    \n",
    "    for file_path in file_paths:\n",
    "        # Use the full file path as the key\n",
    "        station_data_dict[file_path] = constant_value\n",
    "        \n",
    "    return station_data_dict\n",
    "\n",
    "# Example usage\n",
    "directory = \"station_data\"  # Ensure the directory is correct\n",
    "file_paths = ird.get_file_paths(directory)  # This should return a list of file paths\n",
    "constant_value = \"US/Central\"\n",
    "dataset = file_paths_to_dict_with_constant_value(file_paths, constant_value)\n",
    "ird.write_all_results_to_csv(dataset, output_path=\"output/results.csv\")"
   ]
  },
  {
   "cell_type": "markdown",
   "id": "83213ee9-f9cb-408a-a863-9398fd68fcb9",
   "metadata": {},
   "source": [
    "# Perhaps pull station IDs from the file below\n",
    "NOAA_METAR_CONTIG_US_Stations_plus_TZID.csv"
   ]
  },
  {
   "cell_type": "code",
   "execution_count": null,
   "id": "715a784d-5660-4642-a840-655b3926257f",
   "metadata": {
    "editable": true,
    "slideshow": {
     "slide_type": ""
    },
    "tags": []
   },
   "outputs": [],
   "source": [
    "# and do something like this pulling only the data we want\n",
    "# they all start with a k so we only need to chop that off\n",
    "# change the uri so we're getting the right date range\n",
    "# as well as rain\n",
    "\"\"\"\n",
    "An example script to sequentially download data from a bunch of long term\n",
    "ASOS sites, for only a few specific variables, and save the result to\n",
    "individual CSV files.\n",
    "\n",
    "You are free to use this however you want.\n",
    "\n",
    "Author: daryl herzmann akrherz@iastate.edu\n",
    "\"\"\"\n",
    "\n",
    "import os\n",
    "from datetime import date, datetime, timedelta\n",
    "\n",
    "import requests\n",
    "\n",
    "\n",
    "def fetch(station_id):\n",
    "    \"\"\"Download data we are interested in!\"\"\"\n",
    "    localfn = f\"{station_id}.csv\"\n",
    "    if os.path.isfile(localfn):\n",
    "        print(f\"- Cowardly refusing to over-write existing file: {localfn}\")\n",
    "        return\n",
    "    print(f\"+ Downloading for {station_id}\")\n",
    "    enddt = date.today() + timedelta(days=2)\n",
    "    uri = (\n",
    "        \"http://mesonet.agron.iastate.edu/cgi-bin/request/asos.py?\"\n",
    "        f\"station={station_id}&data=tmpc&year1=1928&month1=1&day1=1&\"\n",
    "        f\"year2={enddt.year}&month2={enddt.month}&day2={enddt.day}&\"\n",
    "        \"tz=Etc%2FUTC&format=onlycomma&latlon=no&elev=no&missing=M&trace=T&\"\n",
    "        \"direct=yes&report_type=3\"\n",
    "    )\n",
    "    res = requests.get(uri, timeout=300)\n",
    "    with open(localfn, \"w\", encoding=\"utf-8\") as fh:\n",
    "        fh.write(res.text)\n",
    "\n",
    "\n",
    "def main():\n",
    "    \"\"\"Main loop.\"\"\"\n",
    "    # Step 1: Fetch global METAR geojson metadata\n",
    "    # https://mesonet.agron.iastate.edu/sites/networks.php\n",
    "    req = requests.get(\n",
    "        \"http://mesonet.agron.iastate.edu/geojson/network/AZOS.geojson\",\n",
    "        timeout=60,\n",
    "    )\n",
    "    geojson = req.json()\n",
    "    for feature in geojson[\"features\"]:\n",
    "        station_id = feature[\"id\"]\n",
    "        props = feature[\"properties\"]\n",
    "        # We want stations with data to today (archive_end is null)\n",
    "        if props[\"archive_end\"] is not None:\n",
    "            continue\n",
    "        # We want stations with data to at least 1943\n",
    "        if props[\"archive_begin\"] is None:\n",
    "            continue\n",
    "        archive_begin = datetime.strptime(props[\"archive_begin\"], \"%Y-%m-%d\")\n",
    "        if archive_begin.year > 1943:\n",
    "            continue\n",
    "        # Horray, fetch data\n",
    "        fetch(station_id)\n",
    "\n",
    "\n",
    "if __name__ == \"__main__\":\n",
    "    main()"
   ]
  }
 ],
 "metadata": {
  "kernelspec": {
   "display_name": "Python 3 (ipykernel)",
   "language": "python",
   "name": "python3"
  },
  "language_info": {
   "codemirror_mode": {
    "name": "ipython",
    "version": 3
   },
   "file_extension": ".py",
   "mimetype": "text/x-python",
   "name": "python",
   "nbconvert_exporter": "python",
   "pygments_lexer": "ipython3",
   "version": "3.12.7"
  }
 },
 "nbformat": 4,
 "nbformat_minor": 5
}
