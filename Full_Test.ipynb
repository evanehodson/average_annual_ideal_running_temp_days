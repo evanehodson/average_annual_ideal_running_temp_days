{
 "cells": [
  {
   "cell_type": "code",
   "execution_count": 1,
   "id": "64324ad4-25de-4b69-91d8-1e6a9d92a29a",
   "metadata": {},
   "outputs": [
    {
     "name": "stdout",
     "output_type": "stream",
     "text": [
      "Failed to download data for station: AEG. Error: 500 Server Error: Internal Server Error for url: https://mesonet.agron.iastate.edu/cgi-bin/request/asos.py?station=AEG&data=feel&data=p01m&year1=1993&month1=1&day1=1&year2=2023&month2=1&day2=1&tz=Etc%2FUTC&format=onlycomma&latlon=no&elev=no&missing=M&trace=T&direct=no&report_type=3\n",
      "[Data Download] |██████████████████████████████████████████████████| 100.00% complete (2223/2223)\n",
      "[Calculating Results] |████████████████████████████████████--------------| 72.95% complete (1621/2222)\r"
     ]
    },
    {
     "name": "stderr",
     "output_type": "stream",
     "text": [
      "C:\\Users\\evane\\OneDrive\\Desktop\\Personal Research\\average_annual_ideal_running_temp_days\\aairtd.py:100: UserWarning: Could not infer format, so each element will be parsed individually, falling back to `dateutil`. To ensure parsing is consistent and as-expected, please specify a format.\n",
      "  data[\"valid\"] = pd.to_datetime(data[\"valid\"], errors=\"coerce\")\n"
     ]
    },
    {
     "name": "stdout",
     "output_type": "stream",
     "text": [
      "[Calculating Results] |██████████████████████████████████████████████████| 100.00% complete (2222/2222)\n",
      "Results written to results_20241029193533.csv\n"
     ]
    }
   ],
   "source": [
    "import aairtd\n",
    "\n",
    "csv_file = \"NOAA_METAR_CONTIG_US_Stations_plus_TZID.csv\"\n",
    "station_data_output_dir = \"station_data\"\n",
    "\n",
    "# Get station dictionary\n",
    "station_dict = aairtd.get_stations_and_timezones(csv_file)\n",
    "\n",
    "# Download station data with the specified output directory\n",
    "station_data_dict = aairtd.download_station_data(station_dict, station_data_output_dir)\n",
    "\n",
    "# Write results to CSV\n",
    "aairtd.write_all_results_to_csv(station_data_dict)"
   ]
  },
  {
   "cell_type": "code",
   "execution_count": 7,
   "id": "e99ea999-e037-4545-b860-faf7c0478b95",
   "metadata": {},
   "outputs": [
    {
     "name": "stdout",
     "output_type": "stream",
     "text": [
      "      ICAO  aairtd\n",
      "113   KL52     361\n",
      "1550  KDVO     350\n",
      "1925  KIZA     344\n",
      "1841  KO69     326\n",
      "1674  K4S1     312\n",
      "2035  KE16     312\n",
      "850   K77S     304\n",
      "2003  KF70     303\n",
      "1780  KSUU     302\n",
      "241   KCVH     299\n"
     ]
    }
   ],
   "source": [
    "import pandas as pd\n",
    "\n",
    "# Load the data with both 'aairtd' and 'ICAO' columns\n",
    "aairtd_dataframe = pd.read_csv(\"results_20241029193533.csv\", usecols=[\"aairtd\", \"ICAO\"])\n",
    "\n",
    "# Get the top 10 rows with the largest values in the 'aairtd' column\n",
    "top_10_values = aairtd_dataframe.nlargest(10, 'aairtd')[['ICAO', 'aairtd']]\n",
    "\n",
    "print(top_10_values)"
   ]
  },
  {
   "cell_type": "code",
   "execution_count": null,
   "id": "5b883544-68fa-428a-8fc9-b901fff1dde9",
   "metadata": {},
   "outputs": [],
   "source": []
  }
 ],
 "metadata": {
  "kernelspec": {
   "display_name": "Python 3 (ipykernel)",
   "language": "python",
   "name": "python3"
  },
  "language_info": {
   "codemirror_mode": {
    "name": "ipython",
    "version": 3
   },
   "file_extension": ".py",
   "mimetype": "text/x-python",
   "name": "python",
   "nbconvert_exporter": "python",
   "pygments_lexer": "ipython3",
   "version": "3.12.7"
  }
 },
 "nbformat": 4,
 "nbformat_minor": 5
}
