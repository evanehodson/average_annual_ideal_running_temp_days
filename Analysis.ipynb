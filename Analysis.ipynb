{
 "cells": [
  {
   "cell_type": "code",
   "execution_count": 4,
   "id": "9883b548-9f02-4bad-b5b5-2628b782ee25",
   "metadata": {},
   "outputs": [
    {
     "ename": "SyntaxError",
     "evalue": "invalid syntax (608442473.py, line 24)",
     "output_type": "error",
     "traceback": [
      "\u001b[1;36m  Cell \u001b[1;32mIn[4], line 24\u001b[1;36m\u001b[0m\n\u001b[1;33m    he function\u001b[0m\n\u001b[1;37m       ^\u001b[0m\n\u001b[1;31mSyntaxError\u001b[0m\u001b[1;31m:\u001b[0m invalid syntax\n"
     ]
    }
   ],
   "source": [
    "import aairtd as ird\n",
    "\n",
    "# Need a larger dataset (probably everything available in \n",
    "dataset = {\n",
    "    \"Santa_Fe_Hourly_Feel_2014-2024.csv\": \"US/Mountain\",\n",
    "    \"Laramie_Hourly_Feel_2014-2024.csv\": \"US/Mountain\",\n",
    "    \"Flagstaff_Hourly_Feel_2014-2024.csv\": \"US/Mountain\",\n",
    "    \"Colorado_Springs_Hourly_Feel_2014-2024.csv\": \"US/Mountain\",\n",
    "    \"Cheyenne_Hourly_Feel_2014-2024.csv\": \"US/Mountain\",\n",
    "    \"Castle_Rock_Hourly_Feel_2014-2024.csv\": \"US/Mountain\",\n",
    "    \"North_Bend_Hourly_Feel_2014-2024.csv\": \"US/Pacific\",\n",
    "    \"Bozeman_Hourly_Feel_2014-2024.csv\": \"US/Mountain\",\n",
    "    \"Lebanon_Hourly_Feel_2014-2024.csv\": \"US/Eastern\",\n",
    "    \"New_Haven_Hourly_Feel_2014-2024.csv\": \"US/Eastern\",\n",
    "    \"New_York_City_Hourly_Feel_2014-2024.csv\": \"US/Eastern\",\n",
    "    \"Salt_Lake_City_Hourly_Feel_2014-2024.csv\": \"US/Mountain\",\n",
    "    \"Seattle_Hourly_Feel_2014-2024.csv\": \"US/Pacific\"\n",
    "}\n",
    "\n",
    "# Initialize a dictionary to store the results\n",
    "results = {}\n",
    "\n",
    "# Loop through the dataset dictionary and call t\n",
    "he function\n",
    "for file_name, time_zone in dataset.items():\n",
    "    # Call the function with the file path and time zone\n",
    "    average_days = ird.average_annual_ideal_run_temp_days(file_name, time_zone)\n",
    "    city_name = file_name.split(\"_Hourly_Feel_2014-2024.csv\")[0]\n",
    "    city_name = city_name.replace(\"_\", \" \")\n",
    "    \n",
    "    if city_name == \"Hanover\":  # Check details for Hanover\n",
    "        print(f\"Debugging Hanover:\")\n",
    "        print(f\"Timezone: {time_zone}\")\n",
    "        print(f\"File: {file_name}\")\n",
    "        print(f\"Average days calculated: {average_days}\")\n",
    "    \n",
    "    # Store the result in the results dictionary\n",
    "    results[city_name] = average_days\n",
    "\n",
    "# Print the results\n",
    "for city, avg_days in results.items():\n",
    "    print(f\"Average ideal run temperature days for {city}: {avg_days:.0f}\") "
   ]
  },
  {
   "cell_type": "code",
   "execution_count": 3,
   "id": "075b27f3-2de2-4292-ab24-943f42249dfe",
   "metadata": {},
   "outputs": [
    {
     "ename": "NameError",
     "evalue": "name 'ird' is not defined",
     "output_type": "error",
     "traceback": [
      "\u001b[1;31m---------------------------------------------------------------------------\u001b[0m",
      "\u001b[1;31mNameError\u001b[0m                                 Traceback (most recent call last)",
      "Cell \u001b[1;32mIn[3], line 19\u001b[0m\n\u001b[0;32m      1\u001b[0m \u001b[38;5;66;03m# Example usage\u001b[39;00m\n\u001b[0;32m      2\u001b[0m dataset \u001b[38;5;241m=\u001b[39m {\n\u001b[0;32m      3\u001b[0m     \u001b[38;5;124m\"\u001b[39m\u001b[38;5;124mSanta_Fe_Hourly_Feel_2014-2024.csv\u001b[39m\u001b[38;5;124m\"\u001b[39m: \u001b[38;5;124m\"\u001b[39m\u001b[38;5;124mUS/Mountain\u001b[39m\u001b[38;5;124m\"\u001b[39m,\n\u001b[0;32m      4\u001b[0m     \u001b[38;5;124m\"\u001b[39m\u001b[38;5;124mLaramie_Hourly_Feel_2014-2024.csv\u001b[39m\u001b[38;5;124m\"\u001b[39m: \u001b[38;5;124m\"\u001b[39m\u001b[38;5;124mUS/Mountain\u001b[39m\u001b[38;5;124m\"\u001b[39m,\n\u001b[1;32m   (...)\u001b[0m\n\u001b[0;32m     15\u001b[0m     \u001b[38;5;124m\"\u001b[39m\u001b[38;5;124mSeattle_Hourly_Feel_2014-2024.csv\u001b[39m\u001b[38;5;124m\"\u001b[39m: \u001b[38;5;124m\"\u001b[39m\u001b[38;5;124mUS/Pacific\u001b[39m\u001b[38;5;124m\"\u001b[39m\n\u001b[0;32m     16\u001b[0m }\n\u001b[1;32m---> 19\u001b[0m \u001b[43mird\u001b[49m\u001b[38;5;241m.\u001b[39mwrite_all_results_to_csv(dataset)\n",
      "\u001b[1;31mNameError\u001b[0m: name 'ird' is not defined"
     ]
    }
   ],
   "source": [
    "# Example usage\n",
    "dataset = {\n",
    "    \"Santa_Fe_Hourly_Feel_2014-2024.csv\": \"US/Mountain\",\n",
    "    \"Laramie_Hourly_Feel_2014-2024.csv\": \"US/Mountain\",\n",
    "    \"Flagstaff_Hourly_Feel_2014-2024.csv\": \"US/Mountain\",\n",
    "    \"Colorado_Springs_Hourly_Feel_2014-2024.csv\": \"US/Mountain\",\n",
    "    \"Cheyenne_Hourly_Feel_2014-2024.csv\": \"US/Mountain\",\n",
    "    \"Castle_Rock_Hourly_Feel_2014-2024.csv\": \"US/Mountain\",\n",
    "    \"North_Bend_Hourly_Feel_2014-2024.csv\": \"US/Pacific\",\n",
    "    \"Bozeman_Hourly_Feel_2014-2024.csv\": \"US/Mountain\",\n",
    "    \"Lebanon_Hourly_Feel_2014-2024.csv\": \"US/Eastern\",\n",
    "    \"New_Haven_Hourly_Feel_2014-2024.csv\": \"US/Eastern\",\n",
    "    \"New_York_City_Hourly_Feel_2014-2024.csv\": \"US/Eastern\",\n",
    "    \"Salt_Lake_City_Hourly_Feel_2014-2024.csv\": \"US/Mountain\",\n",
    "    \"Seattle_Hourly_Feel_2014-2024.csv\": \"US/Pacific\"\n",
    "}\n",
    "\n",
    "\n",
    "ird.write_all_results_to_csv(dataset)"
   ]
  },
  {
   "cell_type": "code",
   "execution_count": null,
   "id": "ae883633-bfde-4c9a-a40c-cf5284a37493",
   "metadata": {},
   "outputs": [],
   "source": []
  }
 ],
 "metadata": {
  "kernelspec": {
   "display_name": "Python 3 (ipykernel)",
   "language": "python",
   "name": "python3"
  },
  "language_info": {
   "codemirror_mode": {
    "name": "ipython",
    "version": 3
   },
   "file_extension": ".py",
   "mimetype": "text/x-python",
   "name": "python",
   "nbconvert_exporter": "python",
   "pygments_lexer": "ipython3",
   "version": "3.12.7"
  }
 },
 "nbformat": 4,
 "nbformat_minor": 5
}
