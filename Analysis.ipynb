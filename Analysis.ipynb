{
 "cells": [
  {
   "cell_type": "code",
   "execution_count": 1,
   "id": "075b27f3-2de2-4292-ab24-943f42249dfe",
   "metadata": {},
   "outputs": [
    {
     "name": "stdout",
     "output_type": "stream",
     "text": [
      "Results written to results_20241028164103.csv\n"
     ]
    }
   ],
   "source": [
    "import aairtd as ird\n",
    "\n",
    "# Example usage\n",
    "dataset = {\n",
    "    \"Santa_Fe_Hourly_Feel_2014-2024.csv\": \"US/Mountain\",\n",
    "    \"Laramie_Hourly_Feel_2014-2024.csv\": \"US/Mountain\",\n",
    "    \"Flagstaff_Hourly_Feel_2014-2024.csv\": \"US/Mountain\",\n",
    "    \"Colorado_Springs_Hourly_Feel_2014-2024.csv\": \"US/Mountain\",\n",
    "    \"Cheyenne_Hourly_Feel_2014-2024.csv\": \"US/Mountain\",\n",
    "    \"Castle_Rock_Hourly_Feel_2014-2024.csv\": \"US/Mountain\",\n",
    "    \"North_Bend_Hourly_Feel_2014-2024.csv\": \"US/Pacific\",\n",
    "    \"Bozeman_Hourly_Feel_2014-2024.csv\": \"US/Mountain\",\n",
    "    \"Lebanon_Hourly_Feel_2014-2024.csv\": \"US/Eastern\",\n",
    "    \"New_Haven_Hourly_Feel_2014-2024.csv\": \"US/Eastern\",\n",
    "    \"New_York_City_Hourly_Feel_2014-2024.csv\": \"US/Eastern\",\n",
    "    \"Salt_Lake_City_Hourly_Feel_2014-2024.csv\": \"US/Mountain\",\n",
    "    \"Seattle_Hourly_Feel_2014-2024.csv\": \"US/Pacific\"\n",
    "}\n",
    "\n",
    "\n",
    "ird.write_all_results_to_csv(dataset)"
   ]
  },
  {
   "cell_type": "code",
   "execution_count": null,
   "id": "ae883633-bfde-4c9a-a40c-cf5284a37493",
   "metadata": {},
   "outputs": [],
   "source": []
  }
 ],
 "metadata": {
  "kernelspec": {
   "display_name": "Python 3 (ipykernel)",
   "language": "python",
   "name": "python3"
  },
  "language_info": {
   "codemirror_mode": {
    "name": "ipython",
    "version": 3
   },
   "file_extension": ".py",
   "mimetype": "text/x-python",
   "name": "python",
   "nbconvert_exporter": "python",
   "pygments_lexer": "ipython3",
   "version": "3.12.7"
  }
 },
 "nbformat": 4,
 "nbformat_minor": 5
}
