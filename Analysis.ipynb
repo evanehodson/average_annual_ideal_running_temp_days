{
 "cells": [
  {
   "cell_type": "code",
   "execution_count": 1,
   "id": "075b27f3-2de2-4292-ab24-943f42249dfe",
   "metadata": {},
   "outputs": [
    {
     "name": "stdout",
     "output_type": "stream",
     "text": [
      "Results written to results_20241028164103.csv\n"
     ]
    }
   ],
   "source": [
    "import aairtd as ird\n",
    "\n",
    "# Example usage\n",
    "dataset = {\n",
    "    \"Santa_Fe_Hourly_Feel_2014-2024.csv\": \"US/Mountain\",\n",
    "    \"Laramie_Hourly_Feel_2014-2024.csv\": \"US/Mountain\",\n",
    "    \"Flagstaff_Hourly_Feel_2014-2024.csv\": \"US/Mountain\",\n",
    "    \"Colorado_Springs_Hourly_Feel_2014-2024.csv\": \"US/Mountain\",\n",
    "    \"Cheyenne_Hourly_Feel_2014-2024.csv\": \"US/Mountain\",\n",
    "    \"Castle_Rock_Hourly_Feel_2014-2024.csv\": \"US/Mountain\",\n",
    "    \"North_Bend_Hourly_Feel_2014-2024.csv\": \"US/Pacific\",\n",
    "    \"Bozeman_Hourly_Feel_2014-2024.csv\": \"US/Mountain\",\n",
    "    \"Lebanon_Hourly_Feel_2014-2024.csv\": \"US/Eastern\",\n",
    "    \"New_Haven_Hourly_Feel_2014-2024.csv\": \"US/Eastern\",\n",
    "    \"New_York_City_Hourly_Feel_2014-2024.csv\": \"US/Eastern\",\n",
    "    \"Salt_Lake_City_Hourly_Feel_2014-2024.csv\": \"US/Mountain\",\n",
    "    \"Seattle_Hourly_Feel_2014-2024.csv\": \"US/Pacific\"\n",
    "}\n",
    "\n",
    "\n",
    "ird.write_all_results_to_csv(dataset)"
   ]
  },
  {
   "cell_type": "code",
   "execution_count": 11,
   "id": "ae883633-bfde-4c9a-a40c-cf5284a37493",
   "metadata": {},
   "outputs": [
    {
     "name": "stdout",
     "output_type": "stream",
     "text": [
      "Total stations found: 2879\n"
     ]
    }
   ],
   "source": [
    "\n",
    "\n",
    "def get_stations_from_networks():\n",
    "    \"\"\"Build a station list by using a bunch of IEM networks.\"\"\"\n",
    "    stations = []\n",
    "    states = (\n",
    "        \"AK AL AR AZ CA CO CT DE FL GA HI IA ID IL IN KS KY LA MA MD ME MI MN \"\n",
    "        \"MO MS MT NC ND NE NH NJ NM NV NY OH OK OR PA RI SC SD TN TX UT VA VT \"\n",
    "        \"WA WI WV WY\"\n",
    "    )\n",
    "    networks = [f\"{state}_ASOS\" for state in states.split()]\n",
    "\n",
    "    for network in networks:\n",
    "        # Get metadata\n",
    "        uri = f\"https://mesonet.agron.iastate.edu/geojson/network/{network}.geojson\"\n",
    "        try:\n",
    "            response = requests.get(uri)\n",
    "            response.raise_for_status()  # Check for request errors\n",
    "            jdict = response.json()\n",
    "            \n",
    "            # Extract station IDs\n",
    "            for site in jdict[\"features\"]:\n",
    "                stations.append(site[\"properties\"][\"sid\"])\n",
    "                \n",
    "        except requests.RequestException as e:\n",
    "            print(f\"Failed to retrieve data for network {network}: {e}\")\n",
    "    \n",
    "    return stations\n",
    "\n",
    "# Example usage\n",
    "station_list = get_stations_from_networks()\n",
    "print(f\"Total stations found: {len(station_list)}\")\n",
    "\n",
    "def get_cleaned_station_list(station_list):\n",
    "    \"\"\"Apply cleaning to a list of station IDs and remove any invalid entries.\"\"\"\n",
    "    cleaned_stations = []\n",
    "    for station in station_list:\n",
    "        # Exclude IDs that start with a number\n",
    "        if station[0].isdigit():\n",
    "            continue\n",
    "        # Keep IDs that are exactly 4 characters long unchanged\n",
    "        elif len(station) == 4:\n",
    "            cleaned_stations.append(station)\n",
    "        # Add \"K\" in front of IDs shorter than 4 characters\n",
    "        else:\n",
    "            cleaned_stations.append(f\"K{station}\")\n",
    "    return cleaned_stations"
   ]
  },
  {
   "cell_type": "code",
   "execution_count": 12,
   "id": "c4311b04-4716-454c-8534-d9b0697b37ec",
   "metadata": {},
   "outputs": [
    {
     "name": "stdout",
     "output_type": "stream",
     "text": [
      "['PADK', 'PAKH', 'PFZK', 'PAUT', 'PALP', 'PAFM', 'PAKP', 'PANC', 'PAGN', 'PANI', 'PANT', 'PANV', 'PARC', 'PAAK', 'PATQ', 'PABR', 'PABA', 'PABE', 'PABT', 'PALV', 'PABV', 'PFKT', 'PABL', 'PATW', 'PALU', 'PAEH', 'PACZ', 'PACE', 'PARL', 'PALR', 'PFCB', 'PAVA', 'PAJC', 'PAEC', 'PFCL', 'PACD', 'PACX', 'PACV', 'PASC', 'PADE', 'PADL', 'PADU', 'PAEG', 'PAII', 'PAEI', 'PAEL', 'PFEL', 'PAED', 'PAEM', 'PAZK', 'PAFA', 'PAKF', 'PAFL', 'PAFK', 'PFYU', 'PABI', 'PAFR', 'PAGB', 'PAGA', 'PAGM', 'PAGL', 'PAGK', 'PAGS', 'PAHN', 'PAHZ', 'PAHV', 'PAHC', 'PAHO', 'PAOH', 'PAHP', 'PAHL', 'PAHS', 'PAHY', 'PAIG', 'PAIL', 'PAIM', 'PAJN', 'PAFE', 'PALG', 'PAKV', 'PAEN', 'PAKT', 'PAIK', 'PAVC', 'PAKN', 'PAKI', 'PAVL', 'PAKW', 'PADQ', 'PAJZ', 'PFKO', 'PAOT', 'PAKK', 'PAKU', 'PFKW', 'PALH', 'PAML', 'PAMB', 'PADM', 'PAMX', 'PAMC', 'PAIN', 'PAMY', 'PAMR', 'PAER', 'PAMM', 'PAMD', 'PAMH', 'PAMO', 'PABN', 'PANA', 'PAOU', 'PANN', 'PANW', 'PAFS', 'PAWN', 'PAOM', 'PFNO', 'PAOR', 'PFNU', 'PAQT', 'PPNU', 'PANU', 'PPIT', 'PAAQ', 'PAXK', 'PAPE', 'PAPG', 'PAPN', 'PAPM', 'PAPO', 'PPIZ', 'PAAD', 'PATO', 'PAAP', 'PALJ', 'PAPC', 'PAPH', 'PAPR', 'PAPT', 'PAQH', 'PADG', 'PARD', 'PARY', 'PARS', 'PASM', 'PASN', 'PASD', 'PASA', 'PACM', 'PASK', 'PASO', 'PAWD', 'PAHX', 'PFSH', 'PASP', 'PASY', 'PASH', 'PAGH', 'PASI', 'PAGY', 'PASW', 'PADT', 'PASL', 'PALK', 'PASX', 'PFWS', 'PASV', 'PAPB', 'PAMK', 'PAJV', 'PATK', 'PATA', 'PATL', 'PATE', 'PATC', 'PATG', 'PFTO', 'PAOO', 'POKA', 'PAUM', 'PAUN', 'PAVW', 'PAVD', 'PAFB', 'PAWI', 'PAIW', 'PAWS', 'PAWM', 'PAWR', 'PAKX', 'PAUO', 'PAWG', 'PAYA', 'KEET', 'KALX', 'KANB', 'KAUO', 'KAUB', 'KEKY', 'KBHM', 'KOZR', 'KCMD', 'KDCU', 'KDYA', 'KDHN', 'KEDN', 'KEUF', 'KGZH', 'KCQF', 'KNBJ', 'KHEY', 'KGAD', 'KPRN', 'KJKA', 'KHDL', 'KHSV', 'KMDQ', 'KLOR', 'KJFX', 'KA08', 'KMXF', 'KMOB', 'KBFM', 'KMGM', 'KMSL', 'KPLR', 'KRAM', 'KHUA', 'KSEM', 'KSXS', 'KSCD', 'KASN', 'KTOI', 'KTCL', 'KADF', 'KBVX', 'KSUZ', 'KVBT', 'KHKA', 'KCDH', 'KCCA', 'KDRP', 'KCXW', 'KBYH', 'KELD', 'KFYV', 'KFLP', 'KFSM', 'KHRO', 'KHOT', 'KDEQ', 'KJBR', 'KLIT', 'KLRF', 'KAGO', 'KMEZ', 'KLLQ', 'KBPK', 'KMWT', 'KM19', 'KORK', 'KLZK', 'KXNA', 'KPBF', 'KROG', 'KRUE', 'KSRC', 'KSLG', 'KASG', 'KSGT', 'KTXK', 'KARG', 'KAWM', 'KBXK', 'KIFP', 'KCGZ', 'KCHD', 'KAZC', 'KP08', 'KP52', 'KDMA', 'KDVT', 'KDUG', 'KFLG', 'KFHU', 'KGBN', 'KGXF', 'KGEU', 'KGYR', 'KGCN', 'KIGM', 'KLGF', 'KHII', 'KLUF', 'KA39', 'KFFZ', 'KOLS', 'KPGA', 'KPAN', 'KPHX', 'KMZJ', 'KALK', 'KPRC', 'KSAD', 'KE77', 'KSDL', 'KSEZ', 'KSOW', 'KJTC', 'KSJN', 'KTYL', 'KTUS', 'KAVQ', 'KRYN', 'KNOZ', 'KP33', 'KCMR', 'KIWA', 'KRQE', 'KINW', 'KYUM', 'KNYL', 'KAAT', 'KACV', 'KAUN', 'KAVX', 'KBFL', 'KDAG', 'KBAB', 'KBUO', 'KBYS', 'KL35', 'KBIH', 'KBLU', 'KBLH', 'KL08', 'KBUR', 'KC83', 'KCCB', 'KCMA', 'KCZZ', 'KNXF', 'KNFG', 'KCRQ', 'KO05', 'KCIC', 'KNID', 'KCNO', 'KO22', 'KCCR', 'KAJO', 'KCEC', 'KDLO', 'KEDW', 'KNJK', 'KEMT', 'KNZJ', 'KEKA', 'KL18', 'KOAR', 'KFOT', 'KFAT', 'KFCH', 'KFUL', 'KGOO', 'KHAF', 'KHJO', 'KHHR', 'KHWD', 'KHMT', 'KCVH', 'KIPL', 'KNRS', 'KIYK', 'KJAQ', 'KWJF', 'KPOC', 'KWHP', 'KNLC', 'KLHM', 'KLVK', 'KLPC', 'KLGB', 'KSLI', 'KCQT', 'KLAX', 'KMAE', 'KMMH', 'KRIV', 'KMYV', 'KMHR', 'KMCE', 'KMER', 'KNKX', 'KMOD', 'KNUQ', 'KMHV', 'KSIY', 'KMRY', 'KMHS', 'KMWS', 'KF70', 'KAPC', 'KEED', 'KNZY', 'KDVO', 'KOAK', 'KL52', 'KOKB', 'KONT', 'KOVE', 'KOXR', 'KGXA', 'KPMD', 'KPSP', 'KPAO', 'KPRB', 'KO69', 'KPVF', 'KPTV', 'KNTD', 'KRNM', 'KRBL', 'KRDD', 'KO32', 'KRAL', 'KSAC', 'KMCC', 'KSMF', 'KSNS', 'KCPU', 'KSBD', 'KSQL', 'KNUC', 'KSDB', 'KSDM', 'KSEE', 'KSAN', 'KMYF', 'KSFO', 'KSJC', 'KRHV', 'KSBP', 'KE16', 'KNSI', 'KSNA', 'KSBA', 'KSMX', 'KSMO', 'KSTS', 'KIZA', 'KO87', 'KTVL', 'KSCK', 'KSVE', 'KTSP', 'KTRM', 'KTOA', 'KTCY', 'KSUU', 'KO86', 'KTRK', 'KNXP', 'KUKI', 'KEDU', 'KBAN', 'KVCB', 'KVBG', 'KXVW', 'KVGN', 'KTQS', 'KVNY', 'KVCV', 'KVIS', 'KWVI', 'KO54', 'KDWA', 'KAFF', 'KAKO', 'KALS', 'KASE', 'KBDU', 'KBJC', 'KBKF', 'KAEJ', 'KITR', 'KCWN', 'KCFO', 'KCOS', 'KCRV', 'KCEZ', 'KCAG', 'KC99', 'KRCV', 'KAJZ', 'KAPA', 'KDEN', 'KDRO', 'KEGE', 'KABH', 'KEIK', 'KFCS', 'KFNL', 'KFMM', 'KFTG', 'KGNB', 'KGJT', 'KGXY', 'KGUC', 'KHDN', 'KHEQ', 'KLHX', 'KLAA', 'KVTP', 'KLXV', 'KLIC', 'KLMO', 'KFLY', 'KEEO', 'KMYP', 'KMTJ', 'KMNH', 'KAIB', 'KPSO', 'KPUB', 'KCCU', 'KRIL', 'KANK', 'KSHM', 'KSPD', 'KSBS', 'KSTK', 'KTEX', 'KTAD', 'KC07', 'KC08', 'KCPW', 'KBDR', 'KSNC', 'KDXR', 'KGON', 'KBDL', 'KHFD', 'KMMK', 'KHVN', 'KOXC', 'KIJD', 'KDOV', 'KGED', 'KILG', 'KAAF', 'KBOW', 'KF95', 'KBCT', 'KBKV', 'KFIN', 'KXMR', 'KVSH', 'KNFJ', 'KCLW', 'KCEW', 'KCTY', 'KCGC', 'KDAB', 'KDED', 'KDTS', 'KEGI', 'KVPS', 'KEGC', 'KFHB', 'KFLM', 'KFXE', 'KFLL', 'KFMY', 'KRSW', 'KFPR', 'KGNV', 'KHWO', 'KHST', 'KHRT', 'KIMM', 'KINF', 'KCRG', 'KHEG', 'KJAX', 'KNIP', 'KVQQ', 'KNEN', 'KK70', 'KEYW', 'KNQX', 'KISM', 'KLCQ', 'KLAL', 'KX07', 'KLNA', 'KLEE', 'KMCF', 'KAGR', 'KMTH', 'KMKY', 'KMAI', 'KNRB', 'KMLB', 'KMBF', 'KMIA', 'KTMB', 'KOPF', 'KNDZ', 'KAPF', 'KTTS', 'KEVB', 'KOCF', 'KOCR', 'KOBE', 'KORL', 'KMCO', 'KOMN', 'KXFL', 'KECP', 'KPFN', 'KTDR', 'KCOF', 'KNPA', 'KPNS', 'KFPY', 'KPCM', 'KPMP', 'KPGD', 'KPIE', 'KSFB', 'KSRQ', 'KSEF', 'KSGJ', 'KSPG', 'KTLH', 'KTPA', 'KTPF', 'KVVG', 'KX21', 'KTIX', 'KBCR', 'KPAM', 'KX26', 'KVDF', 'KVNC', 'KVRB', 'KF45', 'KPBI', 'KNSE', 'KX60', 'KGIF', 'KSUA', 'KZPH', 'KABY', 'KAMG', 'KACJ', 'KAHN', 'KPDK', 'KFTY', 'KATL', 'KDNL', 'KAGS', 'KBGE', 'KBHC', 'KDZJ', 'KBIJ', 'KBQK', 'KSSI', 'KCZL', 'KCXU', 'KCTJ', 'KVPC', 'KCNI', 'KCWV', 'KCSG', 'KCKF', 'KAJR', 'KCVC', 'KPUJ', 'KDNN', 'KMGE', 'KDQH', 'KDBN', 'KEZM', 'KEBA', 'KFZG', 'KLSF', 'KLHW', 'KGVL', 'KCPP', 'KHMP', 'KAZE', 'KHOE', 'KSVN', 'KJZP', 'KJCA', 'KJES', 'KLGC', 'KLZU', 'KMCN', 'KRYY', 'KMQW', 'KMHP', 'KMLJ', 'KD73', 'KVAD', 'KMGR', 'KMUL', 'KCCO', 'KFFC', 'KPXE', 'KPIM', 'KRVJ', 'KRMG', 'KOKZ', 'KSAV', 'KTBR', 'KSBO', 'KJYL', 'KOPN', 'KTVI', 'KHQU', 'KTMA', 'KTOC', 'KVLD', 'KVDI', 'KWRB', 'KIIY', 'KAYS', 'KWDR', 'PHSF', 'PHHN', 'PHIK', 'PHTO', 'PHNL', 'PHOG', 'PHJR', 'PHMU', 'PHNG', 'PHKO', 'PHBK', 'PHJH', 'PHNY', 'PHLI', 'PHMK', 'PMDY', 'PHHI', 'KAXA', 'KAMW', 'KIKV', 'KAIO', 'KADU', 'KBNW', 'KBRL', 'KCIN', 'KCID', 'KTVK', 'KCNC', 'KCCY', 'KCKP', 'KICL', 'KCAV', 'KCWI', 'KCBF', 'KCSQ', 'KDEH', 'KDNS', 'KDSM', 'KDBQ', 'KEST', 'KFFL', 'KFXY', 'KFOD', 'KFSW', 'KGGI', 'KHPT', 'KHNR', 'KIIB', 'KIOW', 'KIFA', 'KEOK', 'KOXV', 'KLWD', 'KLRJ', 'KMIW', 'KMCW', 'KMXO', 'KMPZ', 'KMUT', 'KTNU', 'KOLZ', 'KORC', 'KI75', 'KOOA', 'KOTM', 'KPEA', 'KPRO', 'KDVN', 'KRDK', 'KSHL', 'KSDA', 'KSUX', 'KSXK', 'KSPW', 'KSLB', 'KVTI', 'KAWG', 'KALO', 'KEBS', 'KBOI', 'KBYI', 'KEUL', 'KLLJ', 'KCOE', 'KDIJ', 'KP69', 'KGNG', 'KGIC', 'KSUN', 'KIDA', 'KJER', 'KLWS', 'KMLD', 'KMYL', 'KMUO', 'KMLP', 'KMAN', 'KPIH', 'KU10', 'KRXE', 'KSMN', 'KSZT', 'KU78', 'KS14', 'KSNT', 'KTWF', 'KALN', 'KBLV', 'KBMI', 'KCPS', 'KCIR', 'KMDH', 'KCUL', 'KENL', 'KCMI', 'KMDW', 'KARR', 'KDPA', 'KIGQ', 'KCGX', 'KORD', 'KDNV', 'KDEC', 'KDKB', 'KFWC', 'KFOA', 'KFEP', 'KGBG', 'KHSB', 'KIJX', 'KJOT', 'KIKK', 'KC75', 'KLWV', 'KAAA', 'KMQB', 'KMWA', 'KMTO', 'KM30', 'KMLI', 'KC09', 'KAJG', 'KI63', 'KMVN', 'KOLY', 'KPWK', 'KPRG', 'KPIA', 'KVYS', 'KPPQ', 'KPNT', 'KUIN', 'KTIP', 'KRSV', 'KRPJ', 'KRFD', 'KLOT', 'KSLO', 'KSFY', 'KSAR', 'KSPI', 'KSQI', 'KTAZ', 'KUGN', 'KAID', 'KANQ', 'KGWB', 'KHLB', 'KBFR', 'KBMG', 'KBAK', 'KCFJ', 'KDCY', 'KEKM', 'KEVV', 'KFWA', 'KSMD', 'KFKR', 'KFRH', 'KGYY', 'KGSH', 'KGPC', 'KGUS', 'KHBE', 'KHNB', 'KHHG', 'KIND', 'KEYE', 'KTYQ', 'KHFY', 'KMQJ', 'KUMP', 'KJVY', 'KC62', 'KOXI', 'KOKK', 'KLAF', 'KPPO', 'KGGP', 'KIMS', 'KMZZ', 'KMGC', 'KMCX', 'KMIE', 'KUWL', 'KC65', 'KPLD', 'KRZL', 'KRID', 'KRCR', 'KGEZ', 'KSBN', 'KHUF', 'KVPZ', 'KASW', 'KADT', 'KUKL', 'KCNU', 'KCFV', 'KCBK', 'KCNK', 'KDDC', 'KEQA', 'KEHA', 'KEMP', 'KFLV', 'KFRI', 'KFSK', 'KGCK', 'KGLD', 'KGBD', 'KHYS', 'KHLC', 'KHQG', 'KHUT', 'KIDP', 'KK88', 'KJHN', 'KLWC', 'KLBL', 'KLYO', 'KMHK', 'KMYZ', 'KIAB', 'KMPR', 'KP28', 'KEWK', 'KNRN', 'KOEL', 'KOIN', 'KIXD', 'KOJC', 'KOWI', 'KPPF', 'KPHG', 'KPTS', 'KPTT', 'KRSL', 'KK83', 'KSLN', 'KTQK', 'KK82', 'KSYF', 'KFOE', 'KTOP', 'KULS', 'KEGT', 'KICT', 'KAAO', 'KBEC', 'KWLD', 'KDWU', 'KBRY', 'KSJS', 'KBWG', 'KFFT', 'KCVG', 'KDVK', 'KEKX', 'KK62', 'KSYM', 'KFGX', 'KHOP', 'KFTK', 'KGLW', 'KM21', 'KKY8', 'KI35', 'KEHR', 'KHVC', 'KJKL', 'KLEX', 'KLOZ', 'KLOU', 'KSDF', 'KGDA', 'KM25', 'KEKQ', 'KIOB', 'KCEY', 'KOWB', 'KPAH', 'KPBX', 'KK22', 'KRGA', 'KI39', 'KSME', 'KTWT', 'KAAS', 'KCPF', 'KBYL', 'KIYA', 'KESF', 'KAEX', 'KATP', 'KAUD', 'KBAD', 'KBQP', 'KBTR', 'KWBF', 'KBXA', 'KBVE', 'KLNQ', 'KCVW', 'KCWF', 'KDRI', 'KEHC', 'KEZP', 'KE12', 'KCMB', 'KEIR', 'KPOE', 'KBKB', 'KGAO', 'KAGI', 'KSQE', 'KREG', 'KL38', 'KAXO', 'KANR', 'KXCN', 'KGRY', 'KMKQ', 'KTAH', 'KHDC', 'KXIH', 'KH08', 'KHUM', 'KIPN', 'KLFT', 'KLCH', 'KT41', 'KGBK', 'KMNE', 'KCYD', 'KMDJ', 'KDSF', 'KGLX', 'KETO', 'KMLU', 'KIER', 'KARA', 'KNEW', 'KMSY', 'KNBG', 'KHZR', 'KACP', 'KH78', 'KOPL', 'KPTN', 'KAQV', 'KQT9', 'KQT8', 'KXPY', 'KAPS', 'KRSN', 'KVBS', 'KGHB', 'KP92', 'KDNK', 'KGSM', 'KSPR', 'KDTN', 'KSHV', 'KASD', 'KSCF', 'KSRN', 'KMTK', 'KSTZ', 'KS58', 'KOYE', 'KUXL', 'KVNP', 'KVQT', 'KTVR', 'KVOA', 'KW60', 'KVKY', 'KBVY', 'KBOS', 'KCQX', 'KCEF', 'KMQE', 'KFIT', 'KBED', 'KHYA', 'KLWM', 'KGHG', 'KMVY', 'KACK', 'KEWB', 'KAQW', 'KOWD', 'KORE', 'KFMH', 'KPSF', 'KPYM', 'KPVC', 'KTAN', 'KBAF', 'KORH', 'KADW', 'KNAK', 'KDMH', 'KMTN', 'KBWI', 'KCGE', 'KRSP', 'KCGS', 'KCBE', 'KESN', 'KFME', 'KFDK', 'KGAI', 'KHGR', 'KOXB', 'KNHK', 'KAPG', 'KRJD', 'KSBY', 'KW29', 'KNUI', 'KDMW', 'KLEW', 'KAUG', 'KBGR', 'KBHB', 'KBXM', 'KNHZ', 'KCAR', 'KEPM', 'KFVE', 'KIZG', 'KGNR', 'KHUL', 'KMLT', 'KOLD', 'KPWM', 'KPQI', 'KRKD', 'KSFM', 'KWVL', 'KIWI', 'KADG', 'KAMN', 'KAPN', 'KARB', 'KBAX', 'KBTL', 'KSJX', 'KACB', 'KBEH', 'KRQB', 'KBFA', 'KCAD', 'KCFS', 'KCVX', 'KFPK', 'KSLH', 'KCIU', 'KOEB', 'KP59', 'KDET', 'KONZ', 'KDTW', 'KYIP', 'KDRM', 'KESC', 'KFNT', 'KFKS', 'KFFX', 'KGLR', 'KGRR', 'KGOV', 'KSAW', 'KCMX', 'KMGN', 'KJYM', 'KBIV', 'KHTL', 'KOZW', 'KY70', 'KIMT', 'KIWD', 'KJXN', 'KAZO', 'KDUH', 'KLAN', 'KD95', 'KLDM', 'KMCD', 'KMBL', 'KISQ', 'KP75', 'KRMY', 'KTEW', 'KMNM', 'KIKW', 'KTTF', 'KMOP', 'KP53', 'KMKG', 'KERY', 'KOSC', 'KRNP', 'KPLN', 'KPTK', 'KP58', 'KPHN', 'KPZQ', 'KMBS', 'KHYX', 'KANJ', 'KMTC', 'KLWA', 'KIRS', 'KHAI', 'KTVC', 'KVLL', 'KY31', 'KAIT', 'KAEL', 'KAXN', 'KAQP', 'KAUM', 'KBDE', 'KBJI', 'KBBB', 'KFOZ', 'KBRD', 'KCFE', 'KCBG', 'KCNB', 'KCOQ', 'KCQM', 'KCDD', 'KCKN', 'KDTL', 'KTOB', 'KDLH', 'KDYT', 'KY63', 'KELO', 'KEVM', 'KFRM', 'KFBL', 'KFFM', 'KFGN', 'KFSE', 'KGYL', 'KGHW', 'KGNA', 'KCKC', 'KGPZ', 'KGDB', 'KHCO', 'KHIB', 'KHCD', 'KINL', 'KMJQ', 'KLJF', 'KLXL', 'KXVG', 'KLYV', 'KDXX', 'KMKT', 'KMGG', 'KMML', 'KHZX', 'KANE', 'KMSP', 'KMIC', 'KFCM', 'KLVN', 'KMVE', 'KJKJ', 'KMZH', 'KJMR', 'KMOX', 'KULM', 'KOVL', 'KORB', 'KVVV', 'KOWA', 'KPKD', 'KPEX', 'KPWC', 'KPQN', 'KFKA', 'KPNM', 'KRYM', 'KRGK', 'KRWF', 'KRST', 'KROX', 'KROS', 'KD39', 'KBFW', 'KDVP', 'KSGS', 'KSYN', 'KSAZ', 'KSTC', 'KJYG', 'KSTP', 'KTVF', 'KP61', 'KTKC', 'KTWM', 'KADC', 'KY49', 'KRRT', 'KACQ', 'KVWU', 'KETH', 'KBDH', 'KILL', 'KMWM', 'KONA', 'KOTG', 'KVER', 'KBBG', 'KFWB', 'KH21', 'KOZS', 'KEZZ', 'KCGI', 'KCDJ', 'KGLY', 'KCOU', 'KFAM', 'KTBN', 'KHAE', 'KLRY', 'KJEF', 'KJLN', 'KAIZ', 'KMKC', 'KMCI', 'KTKX', 'KIRK', 'KLBO', 'KLXT', 'KMAW', 'KMHL', 'KEVU', 'KMYJ', 'KMBY', 'KHFJ', 'KGPH', 'KK02', 'KPCD', 'KPOF', 'KDMO', 'KSIK', 'KSGF', 'KSET', 'KSTJ', 'KSTL', 'KSUS', 'KUUV', 'KVIH', 'KRCM', 'KRAW', 'KFYG', 'KUNO', 'KSZL', 'KM40', 'KPMU', 'KHSA', 'KCKM', 'KRNV', 'KCBM', 'KCRX', 'KGTR', 'KGLH', 'KGWO', 'KGNF', 'KGPT', 'KHBG', 'KIDL', 'KMYT', 'KHKS', 'KJAN', 'KBIX', 'KLUL', 'KLMS', 'KMBO', 'KMIS', 'KMCB', 'KMEI', 'KNMM', 'KNJW', 'KIKT', 'KHEZ', 'KOLV', 'KUOX', 'KPQL', 'KMPE', 'KMJD', 'KPIB', 'KM16', 'KJVW', 'KSTF', 'KUTA', 'KTUP', 'KVKS', 'KDLP', 'KBHK', 'KBIL', 'KBZN', 'KBTM', 'KS71', 'KCII', 'KM46', 'KS85', 'KCTB', 'KDLN', 'KEKS', 'KGGW', 'KGDV', 'KMVH', 'KGTF', 'KHRF', 'KHMM', 'KHVR', 'KHLN', 'KJDN', 'KGPI', 'KLWT', 'KS59', 'KLVM', 'KGFA', 'KM75', 'KMLS', 'KMSO', 'KS34', 'KPWD', 'KPO1', 'KRPX', 'KSBX', 'KSDY', 'KTHM', 'KRVF', 'KWYS', 'KWEY', 'KOLF', 'KASJ', 'KVUJ', 'KRHP', 'KHBI', 'KGEV', 'KAVL', 'KNJM', 'KBUY', 'KCLT', 'KNKT', 'KCTZ', 'KCPC', 'KJQF', 'KONX', 'KTQV', 'KEDE', 'KECG', 'KEYF', 'KHRJ', 'KFAY', 'KFBG', 'KAKH', 'KGWW', 'KGSO', 'KHSE', 'KHNZ', 'KHKY', 'KOAJ', 'NR02', 'KDPL', 'KFFA', 'KISO', 'KMEB', 'KEXX', 'KIPJ', 'KLHZ', 'KLBT', 'KHFF', 'KMQI', 'KEQY', 'KMRN', 'KMWK', 'KW40', 'KEWN', 'KNCA', 'KUKF', 'KNBT', 'KPGV', 'KPOB', 'KRDU', 'KSIF', 'KIXA', 'KRZZ', 'KRCZ', 'KRWI', 'KRUQ', 'KTDF', 'KFQD', 'KTTA', 'KGSB', 'KEHO', 'KSCR', 'KJNX', 'KMRH', 'KSOP', 'KSUT', 'KSVH', 'KETC', 'KAFP', 'KACZ', 'KOCW', 'KTNB', 'KIGX', 'KMCZ', 'KILM', 'KINT', 'KBIS', 'KD09', 'KBWW', 'KBPP', 'KD50', 'KDVL', 'KDIK', 'KFAR', 'KN60', 'KD57', 'KGAF', 'KGFK', 'KRDR', 'KGWR', 'KHZE', 'KHEI', 'KJMS', 'KD55', 'KP67', 'KY19', 'KMIB', 'KMOT', 'KS32', 'KRUG', 'KD60', 'KBAC', 'KBWP', 'KS25', 'KISN', 'KXWA', 'KANW', 'KBVN', 'KAIA', 'KAUH', 'KBIE', 'KBTA', 'KBBW', 'KCSB', 'KCDR', 'KOLU', 'KCZD', 'KFNB', 'KFET', 'KGRN', 'KGRI', 'KGGF', 'KHSI', 'KHJH', 'KHDE', 'KIML', 'KEAR', 'KIBM', 'KLXN', 'KLNK', 'KMCK', 'KMLE', 'KAFK', 'KOFK', 'KLBF', 'KOFF', 'KOGA', 'KOMA', 'KONL', 'KODX', 'KPMV', 'KBFF', 'KSNY', 'KTQE', 'KTIF', 'KVTN', 'KAHQ', 'KLCG', 'KJYR', 'KBML', 'KCON', 'KAFN', 'KEEN', 'KLCI', 'KLEB', 'KMHT', 'KMWN', 'KASH', 'KPSM', 'KDAW', 'KHIE', 'KACY', 'KBLM', 'KCDW', 'KNEL', 'KLDJ', 'KWRI', 'KMIV', 'KMMU', 'KEWR', 'KSMQ', 'KVAY', 'KFWN', 'KTEB', 'KMJX', 'KTTN', 'KWWD', 'KALM', 'KAEG', 'KABQ', 'KE80', 'KAXX', 'KATS', 'KBRG', 'KCVS', 'KCNM', 'KE33', 'KCAO', 'KCQC', 'KCVN', 'KDMN', 'KFMN', 'KGUP', 'KGNT', 'KHBB', 'KHOB', 'KHMN', 'KLRU', 'KLVS', 'KLSB', 'KLAM', 'KM63', 'KRTN', 'KROW', 'KSRR', 'KSAF', 'KSXU', 'KDNA', 'KSVC', 'KONM', 'KSKX', 'KTCS', 'KTCC', 'KTMT', 'KU31', 'KBAM', 'KB23', 'KBVU', 'KP38', 'KCXP', 'KEKO', 'KELY', 'KP68', 'KNFL', 'KHTH', 'KHND', 'KINS', 'KLAS', 'KLOL', 'KDRA', 'KMEV', 'KLSV', 'KVGT', 'KRTS', 'KRNO', 'KTPH', 'KBJN', 'KAWH', 'KWMC', 'KALB', 'KGVQ', 'KBGM', 'KHWV', 'KBUF', 'KIUA', 'KN03', 'KDSV', 'KDKK', 'KJPX', 'KHTO', 'KELM', 'KFRG', 'KGTB', 'KGFL', 'KRME', 'KVGC', 'KISP', 'KITH', 'KJHW', 'KNY0', 'KJRB', 'KMSS', 'KMTP', 'KMSV', 'KSWF', 'KNYC', 'KJFK', 'KLGA', 'KIAG', 'KOIC', 'KOGS', 'KOLE', 'KMGJ', 'KFZY', 'KPEO', 'KPBG', 'KPLB', 'KPTD', 'KPOU', 'KROC', 'KSLK', 'KSCH', 'KXNT', 'KSYR', 'KUCA', 'KART', 'KELZ', 'KFOK', 'KHPN', 'KSDC', 'KAKR', 'KCAK', 'KUNI', 'KHZY', 'KI69', 'KEDJ', 'KTZR', 'KCDI', 'KRZT', 'KLUK', 'KCLE', 'KBKL', 'KCGF', 'KCMH', 'KOSU', 'KI40', 'KGDK', 'KMGY', 'KDAY', 'KI19', 'KDFI', 'KDLZ', 'KFDY', 'KS24', 'KHAO', 'KI67', 'KJRO', 'KI43', 'KI95', 'KLHQ', 'KI68', 'KAOH', 'KUYF', 'KLPR', 'KMFD', 'KMNN', 'KMRT', 'KMWO', 'KVTA', 'KPHD', 'KOWX', 'KOXD', 'KPCW', 'KPMH', 'KPOV', 'KLCK', 'KSGH', 'KTDZ', 'KTOL', 'KI74', 'KVNW', 'KVES', 'KAXV', 'KI23', 'KUSE', 'KLNN', 'KILN', 'KBJJ', 'KFFO', 'KYNG', 'KZZV', 'KADH', 'KAXS', 'KLTS', 'KAVK', 'KADM', 'KAQR', 'KBVO', 'KBKN', 'KCQB', 'KCHK', 'KGCM', 'KCLK', 'KCSM', 'KCUH', 'KDUA', 'KELK', 'KRQO', 'KWDG', 'KFSI', 'KFDR', 'KGAG', 'KGMJ', 'KGOK', 'KGUY', 'KDUC', 'KHBR', 'KHHW', 'KLAW', 'KMLC', 'KMIO', 'KMKO', 'KOUN', 'KRCE', 'KOKC', 'KHSD', 'KPWA', 'KOKM', 'KPVJ', 'KPNC', 'KH71', 'KRKR', 'KJSV', 'KOWP', 'KSRE', 'KSNL', 'KGZL', 'KSWO', 'KTQH', 'KTIK', 'KTUL', 'KRVS', 'KEND', 'KJWG', 'KOJA', 'KWWR', 'KS12', 'KAST', 'KUAO', 'KBKE', 'KBDN', 'KBOK', 'KBNO', 'KCZK', 'KCVO', 'KEUG', 'KHRI', 'KGCD', 'KJSY', 'KLMT', 'KLGD', 'KLKV', 'KS33', 'KMMV', 'KMEH', 'KMFR', 'KJNW', 'KONP', 'KOTH', 'KONO', 'KPDT', 'KHIO', 'KPDX', 'KTTD', 'KS39', 'KRDM', 'KREO', 'KRBG', 'KSLE', 'KSPB', 'KSXT', 'KS21', 'KTMK', 'KJVU', 'KXLL', 'KABE', 'KAOO', 'KBVI', 'KHMZ', 'KBFD', 'KBTP', 'KFIG', 'KMQS', 'KVVS', 'KDYL', 'KDUJ', 'KERI', 'KRYT', 'KFKL', 'KCXY', 'KHZL', 'KIDI', 'KJST', 'KLNS', 'KLBE', 'KXIF', 'KGKJ', 'KMDT', 'KMPO', 'KMUI', 'KUCP', 'KCKZ', 'KPHL', 'KPNE', 'KLOM', 'KPSB', 'KAGC', 'KPIT', 'KPTW', 'KZER', 'KUKT', 'KRDG', 'KRVL', 'KSEG', 'KN79', 'KUNV', 'KOYM', 'KTHV', 'KAFJ', 'KN38', 'KOQN', 'KAVP', 'KIPT', 'KNXX', 'KPJC', 'KBID', 'KUUU', 'KOQU', 'KSFZ', 'KPVD', 'KWST', 'KAIK', 'KAQX', 'KAND', 'KBNL', 'KARW', 'KNBC', 'KBBP', 'KCDN', 'KCHS', 'KJZI', 'KCQW', 'KDCM', 'KCEU', 'KCAE', 'KCUB', 'KHYW', 'KUDG', 'KFLO', 'KGGE', 'KGYH', 'KGMU', 'KGSP', 'KGRD', 'KHVS', 'KHXD', 'KCKI', 'KLKR', 'KLUX', 'KMNI', 'KMAO', 'KMMT', 'KMKS', 'KLRO', 'KMYR', 'KEOE', 'KXNO', 'KCRE', 'KOGB', 'KLQK', 'KUZA', 'KSSC', 'KSPA', 'KDYB', 'KSMS', 'KRBW', 'KFDW', 'KABR', 'KEFC', 'KBTN', 'KBKX', 'KCUT', 'KRCA', 'KD07', 'KHON', 'KY22', 'KLEM', 'KMDS', 'KMHE', 'KMBG', 'KPHP', 'KPIR', 'KIEN', 'KRAP', 'KSUO', 'KFSD', 'KSPF', 'KATY', 'KSFD', 'KICR', 'KYKN', 'KMMI', 'KM08', 'KTRI', 'KCHA', 'KCKV', 'KRZR', 'KMRC', 'KM04', 'KCSV', 'KM02', 'KDYR', 'KUCY', 'KFYM', 'KM33', 'KGCY', 'KHZD', 'KJAU', 'KMKL', 'KJWN', 'KDKX', 'KTYS', 'KM54', 'KPVE', 'KLUG', 'KMNV', 'KRNC', 'KM01', 'KMEM', 'KNQA', 'KMOR', 'KMBT', 'KBNA', 'KOQT', 'KSCX', 'KPHT', 'KGZS', 'KRKW', 'KSNH', 'KGKT', 'KSYI', 'KSZY', 'KMQY', 'KFYE', 'KSRB', 'KM91', 'KXNX', 'KTHA', 'KBGF', 'KABI', 'KGYF', 'KALI', 'KE38', 'KAMA', 'KE11', 'KLBX', 'KGKY', 'KF44', 'KATA', 'KEDC', 'KBSM', 'KAUS', 'KATT', 'KBYY', 'KBMT', 'KBPT', 'KBEA', 'KE41', 'KBPG', 'KF00', 'KVAF', 'KBGD', 'KBBD', 'KCFD', 'KBBF', 'KBQX', 'KBKD', 'KXBP', 'KBRO', 'KBWD', 'KBMQ', 'KRWV', 'KT35', 'KHHF', 'KCZT', 'KFTN', 'KCVB', 'KT89', 'KF17', 'KCDS', 'KGZN', 'KLBR', 'KCPT', 'KCOM', 'KCLL', 'KMKN', 'KCXO', 'KCRP', 'KNGP', 'KCRS', 'KCOT', 'KDKR', 'KDHT', 'KADS', 'KDFW', 'KDAL', 'KRBD', 'KLUD', 'KDRT', 'KDTO', 'KE57', 'KDUX', 'KDYS', 'KELA', 'KEMK', 'KETN', 'KEBG', 'KELP', 'KBKS', 'KBIF', 'KGRK', 'KFST', 'KAFW', 'KFTW', 'KNFW', 'KFWS', 'KT82', 'KHLR', 'KGLE', 'KGVW', 'KGVX', 'KGLS', 'KGOP', 'KGTU', 'KGYB', 'KJXI', 'KT20', 'KRPH', 'KGDJ', 'KGPM', 'KGVT', 'KGDP', 'KGUL', 'KMNZ', 'KHRL', 'KLHB', 'KHBV', 'KRFI', 'KF12', 'KHRX', 'KHQI', 'KINJ', 'KHDO', 'KHHV', 'KDZB', 'KMCJ', 'KDWH', 'KEFD', 'KTME', 'KSGR', 'KIAH', 'KAXH', 'KHOU', 'KUTS', 'KTFP', 'KJSO', 'KJAS', 'KJCT', 'KSKF', 'KERV', 'KCWC', 'KILE', 'KIKG', 'KNQI', 'KRYW', 'KLUV', 'KLZZ', 'KLNC', 'KLRD', 'KT70', 'KDLF', 'KLLN', 'KT78', 'KAQO', 'KGGG', 'KLBB', 'KLFK', 'KMRF', 'KASL', 'KMFE', 'KPWG', 'KTKI', 'KNMT', 'KHQZ', 'KLXY', 'KMDD', 'KMAF', 'KJWY', 'KJDD', 'KMWL', 'KE01', 'KOSA', 'KMIU', 'KMZG', 'KOCH', 'KBAZ', 'KOPM', 'KODO', 'KORG', 'KNOG', 'KOZA', 'KPSX', 'KPSN', 'KBPC', 'KPPA', 'KPRX', 'KLVJ', 'KPEQ', 'KPYX', 'KPVW', 'KPEZ', 'KRAS', 'KPIL', 'KPKV', 'KT77', 'KPRS', 'KRND', 'KRBO', 'KRKP', 'KECU', 'KF46', 'KRPE', 'KSJT', 'KSAT', 'KSSF', 'KHYI', 'KSEQ', 'KGNC', 'KSHP', 'KGYI', 'KT69', 'KSNK', 'KSOA', 'KSPL', 'KE42', 'KSEP', 'KSLR', 'KSWW', 'KT74', 'KTPL', 'KTRL', 'KTYR', 'KUVA', 'KVHN', 'KF05', 'KVCT', 'KACT', 'KCNW', 'KTXW', 'KT65', 'KCRH', 'KARM', 'KSPS', 'KINK', 'KAPY', 'KU52', 'KBDG', 'KBMC', 'KBCE', 'KCDC', 'KDTA', 'KU24', 'KU69', 'KDPG', 'KU16', 'KFOM', 'KQCA', 'KU28', 'KHVE', 'KHCR', 'KHIF', 'KKNB', 'KLGU', 'KMLF', 'KCNY', 'KU64', 'KOGD', 'KU55', 'KPUC', 'KPVU', 'KSLC', 'KU42', 'KSPK', 'KSGU', 'KDXZ', 'KTVY', 'KT62', 'KVEL', 'KENV', 'KVJI', 'KBKT', 'KVBW', 'KCHO', 'KCXE', 'KCPK', 'KFCI', 'KW63', 'KW81', 'KCJR', 'KDAN', 'KPSK', 'KEMV', 'KFVX', 'KNFE', 'KDAA', 'KFAF', 'KFKN', 'KFRR', 'KGVE', 'KHLX', 'KHSP', 'KW31', 'KLFI', 'KLVL', 'KJYO', 'KLKU', 'KW45', 'KLUA', 'KLYH', 'KHEF', 'KMKJ', 'KMTV', 'KMFV', 'KPHF', 'KPVG', 'KORF', 'KNGU', 'KNTU', 'KOMH', 'KPTB', 'KNYG', 'KW96', 'KJFZ', 'KOFP', 'KRIC', 'KROA', 'KW75', 'KEZF', 'KW78', 'KAVC', 'KRMN', 'KSHD', 'KSFQ', 'KTGI', 'KXSA', 'KBCB', 'KAKQ', 'KWAL', 'KHWY', 'KIAD', 'KDCA', 'KW13', 'KFYJ', 'KJGG', 'KOKV', 'KLNP', 'KMPV', 'KDDH', 'KBTV', 'KFSO', 'KCDA', 'KMVL', 'KEFK', 'KRUT', 'KVSF', 'KAWO', 'KBLI', 'KPWT', 'KBVS', 'KCLS', 'KCQV', 'KDEW', 'KORS', 'KELN', 'KEPH', 'KPAE', 'KSKA', 'KGRF', 'KFHR', 'KHMS', 'KHQM', 'KKLS', 'KTCM', 'KMWH', 'KOKH', 'KOLM', 'KOMK', 'KPSC', 'KVUO', 'KNOW', 'KCLM', 'KPUW', 'KPLU', 'KUIL', 'KRNT', 'KRLD', 'KBFI', 'KSEA', 'KSHN', 'KSFF', 'KGEG', 'KSMP', 'KTIW', 'KDLS', 'KTDO', 'KALW', 'KEAT', 'KNUW', 'KS52', 'KYKM', 'KAIG', 'KATW', 'KASX', 'KGRB', 'KBCK', 'KOVS', 'KBUU', 'KY23', 'KCLI', 'KUBE', 'KDLL', 'KEGV', 'KEAU', 'KFLD', 'KHYR', 'KJVL', 'KUNU', 'KENW', 'KLSE', 'KRCX', 'KLNL', 'KLNR', 'KMSN', 'KMTW', 'KD25', 'KMFI', 'KMDZ', 'KLUM', 'KRRL', 'KC29', 'KMKE', 'KMWC', 'KMRJ', 'KARV', 'KEFT', 'KCWA', 'KRNH', 'KOCQ', 'KOEO', 'KOSH', 'KPBH', 'KPVB', 'KPDC', 'KRAC', 'KC35', 'KRHI', 'KRPD', 'KEZS', 'KSBM', 'KRZN', 'KOLG', 'KCMY', 'KSTE', 'KSUE', 'KSUW', 'KTKV', 'KY51', 'KVOK', 'KRYV', 'KUES', 'KPCZ', 'KAUW', 'KY50', 'KETB', 'KISW', 'KBKW', 'KBLF', 'KW22', 'KCRW', 'KCKB', 'KEKN', 'KW99', 'KHTS', 'KLWB', 'KMRB', 'KMGW', 'KPKB', 'KI16', 'KHLG', 'KTMH', 'KAFO', 'KARL', 'KBVR', 'KBFU', 'KBPI', 'KBIT', 'KBRX', 'KTBX', 'KBYG', 'KCPR', 'KCMS', 'KFEW', 'KCYS', 'KCHJ', 'KCOD', 'KCTD', 'KU68', 'KDHS', 'KDRC', 'KDWX', 'KDGW', 'KDUB', 'KEHY', 'KEVW', 'KFIR', 'KFBR', 'KGCC', 'KGEY', 'KGUR', 'KGUN', 'KHLD', 'KW43', 'KIDV', 'KIKA', 'KJAC', 'KEMM', 'KLND', 'KLAR', 'KAJL', 'KLSK', 'KECS', 'KPAT', 'KPNA', 'KPIN', 'KPOY', 'KPUM', 'KRWL', 'KRIM', 'KRIW', 'KRKS', 'KSGE', 'KSAA', 'KSHR', 'KSHC', 'KSIB', 'KSKL', 'KFWZ', 'KJPD', 'KHSG', 'KTOR', 'KVDW', 'KEAN', 'KWTR', 'KWRL', 'KP60']\n"
     ]
    }
   ],
   "source": [
    "cleaned_stations = get_cleaned_station_list(station_list)\n",
    "print(cleaned_stations)"
   ]
  }
 ],
 "metadata": {
  "kernelspec": {
   "display_name": "Python 3 (ipykernel)",
   "language": "python",
   "name": "python3"
  },
  "language_info": {
   "codemirror_mode": {
    "name": "ipython",
    "version": 3
   },
   "file_extension": ".py",
   "mimetype": "text/x-python",
   "name": "python",
   "nbconvert_exporter": "python",
   "pygments_lexer": "ipython3",
   "version": "3.12.7"
  }
 },
 "nbformat": 4,
 "nbformat_minor": 5
}
