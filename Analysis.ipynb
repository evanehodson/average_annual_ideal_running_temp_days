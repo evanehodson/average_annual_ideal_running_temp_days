{
 "cells": [
  {
   "cell_type": "code",
   "execution_count": 1,
   "id": "9883b548-9f02-4bad-b5b5-2628b782ee25",
   "metadata": {},
   "outputs": [
    {
     "ename": "NameError",
     "evalue": "name 'pd' is not defined",
     "output_type": "error",
     "traceback": [
      "\u001b[1;31m---------------------------------------------------------------------------\u001b[0m",
      "\u001b[1;31mNameError\u001b[0m                                 Traceback (most recent call last)",
      "Cell \u001b[1;32mIn[1], line 19\u001b[0m\n\u001b[0;32m     16\u001b[0m \u001b[38;5;66;03m# Loop through the dataset dictionary and call the function\u001b[39;00m\n\u001b[0;32m     17\u001b[0m \u001b[38;5;28;01mfor\u001b[39;00m file_name, time_zone \u001b[38;5;129;01min\u001b[39;00m dataset\u001b[38;5;241m.\u001b[39mitems():\n\u001b[0;32m     18\u001b[0m     \u001b[38;5;66;03m# Call the function with the file path and time zone\u001b[39;00m\n\u001b[1;32m---> 19\u001b[0m     average_days \u001b[38;5;241m=\u001b[39m \u001b[43mird\u001b[49m\u001b[38;5;241;43m.\u001b[39;49m\u001b[43maverage_annual_ideal_run_temp_days\u001b[49m\u001b[43m(\u001b[49m\u001b[43mfile_name\u001b[49m\u001b[43m,\u001b[49m\u001b[43m \u001b[49m\u001b[43mtime_zone\u001b[49m\u001b[43m)\u001b[49m\n\u001b[0;32m     20\u001b[0m     city_name \u001b[38;5;241m=\u001b[39m file_name\u001b[38;5;241m.\u001b[39msplit(\u001b[38;5;124m\"\u001b[39m\u001b[38;5;124m_Hourly_Feel_2014-2024.csv\u001b[39m\u001b[38;5;124m\"\u001b[39m)[\u001b[38;5;241m0\u001b[39m]\n\u001b[0;32m     21\u001b[0m     city_name \u001b[38;5;241m=\u001b[39m city_name\u001b[38;5;241m.\u001b[39mreplace(\u001b[38;5;124m\"\u001b[39m\u001b[38;5;124m_\u001b[39m\u001b[38;5;124m\"\u001b[39m, \u001b[38;5;124m\"\u001b[39m\u001b[38;5;124m \u001b[39m\u001b[38;5;124m\"\u001b[39m)\n",
      "File \u001b[1;32m~\\OneDrive\\Desktop\\Personal Research\\average_annual_ideal_running_temp_days\\aairtd.py:58\u001b[0m, in \u001b[0;36maverage_annual_ideal_run_temp_days\u001b[1;34m(file_path, time_zone)\u001b[0m\n\u001b[0;32m     56\u001b[0m \u001b[38;5;28;01mdef\u001b[39;00m \u001b[38;5;21maverage_annual_ideal_run_temp_days\u001b[39m(file_path, time_zone):\n\u001b[0;32m     57\u001b[0m \u001b[38;5;250m    \u001b[39m\u001b[38;5;124;03m\"\"\"Calculate the average annual ideal run temperature days for the dataset.\"\"\"\u001b[39;00m\n\u001b[1;32m---> 58\u001b[0m     data \u001b[38;5;241m=\u001b[39m \u001b[43mload_data\u001b[49m\u001b[43m(\u001b[49m\u001b[43mfile_path\u001b[49m\u001b[43m)\u001b[49m\n\u001b[0;32m     59\u001b[0m     data \u001b[38;5;241m=\u001b[39m preprocess_data(data)\n\u001b[0;32m     60\u001b[0m     data \u001b[38;5;241m=\u001b[39m convert_to_timezone(data, time_zone)\n",
      "File \u001b[1;32m~\\OneDrive\\Desktop\\Personal Research\\average_annual_ideal_running_temp_days\\aairtd.py:4\u001b[0m, in \u001b[0;36mload_data\u001b[1;34m(file_path)\u001b[0m\n\u001b[0;32m      2\u001b[0m \u001b[38;5;28;01mdef\u001b[39;00m \u001b[38;5;21mload_data\u001b[39m(file_path):\n\u001b[0;32m      3\u001b[0m \u001b[38;5;250m    \u001b[39m\u001b[38;5;124;03m\"\"\"Load specific columns from a CSV file.\"\"\"\u001b[39;00m\n\u001b[1;32m----> 4\u001b[0m     \u001b[38;5;28;01mreturn\u001b[39;00m \u001b[43mpd\u001b[49m\u001b[38;5;241m.\u001b[39mread_csv(file_path, usecols\u001b[38;5;241m=\u001b[39m[\u001b[38;5;241m1\u001b[39m, \u001b[38;5;241m2\u001b[39m])\n",
      "\u001b[1;31mNameError\u001b[0m: name 'pd' is not defined"
     ]
    }
   ],
   "source": [
    "import pandas as pd\n",
    "import aairtd as ird\n",
    "\n",
    "dataset = {\n",
    "    \"Santa_Fe_Hourly_Feel_2014-2024.csv\": \"US/Mountain\",\n",
    "    \"Laramie_Hourly_Feel_2014-2024.csv\": \"US/Mountain\",\n",
    "    \"Flagstaff_Hourly_Feel_2014-2024.csv\": \"US/Mountain\",\n",
    "    \"Colorado_Springs_Hourly_Feel_2014-2024.csv\": \"US/Mountain\",\n",
    "    \"Cheyenne_Hourly_Feel_2014-2024.csv\": \"US/Mountain\",\n",
    "    \"Castle_Rock_Hourly_Feel_2014-2024.csv\": \"US/Mountain\"\n",
    "}\n",
    "\n",
    "# Initialize a dictionary to store the results\n",
    "results = {}\n",
    "\n",
    "# Loop through the dataset dictionary and call the function\n",
    "for file_name, time_zone in dataset.items():\n",
    "    # Call the function with the file path and time zone\n",
    "    average_days = ird.average_annual_ideal_run_temp_days(file_name, time_zone)\n",
    "    city_name = file_name.split(\"_Hourly_Feel_2014-2024.csv\")[0]\n",
    "    city_name = city_name.replace(\"_\", \" \")\n",
    "    # Store the result in the results dictionary\n",
    "    results[city_name] = average_days\n",
    "\n",
    "# Print the results\n",
    "for city, avg_days in results.items():\n",
    "    print(f\"Average ideal run temperature days for {city}: {avg_days:.0f}\") "
   ]
  },
  {
   "cell_type": "code",
   "execution_count": null,
   "id": "d496edcb-f72d-4b0f-b915-be269c3e54ff",
   "metadata": {},
   "outputs": [],
   "source": []
  }
 ],
 "metadata": {
  "kernelspec": {
   "display_name": "Python 3 (ipykernel)",
   "language": "python",
   "name": "python3"
  },
  "language_info": {
   "codemirror_mode": {
    "name": "ipython",
    "version": 3
   },
   "file_extension": ".py",
   "mimetype": "text/x-python",
   "name": "python",
   "nbconvert_exporter": "python",
   "pygments_lexer": "ipython3",
   "version": "3.12.7"
  }
 },
 "nbformat": 4,
 "nbformat_minor": 5
}
