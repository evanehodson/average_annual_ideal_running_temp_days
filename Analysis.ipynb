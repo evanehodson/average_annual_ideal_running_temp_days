{
 "cells": [
  {
   "cell_type": "code",
   "execution_count": 6,
   "id": "9883b548-9f02-4bad-b5b5-2628b782ee25",
   "metadata": {},
   "outputs": [
    {
     "name": "stdout",
     "output_type": "stream",
     "text": [
      "Average ideal run temperature days for Santa Fe: 267\n",
      "Average ideal run temperature days for Laramie: 224\n",
      "Average ideal run temperature days for Flagstaff: 263\n",
      "Average ideal run temperature days for Colorado Springs: 238\n",
      "Average ideal run temperature days for Cheyenne: 214\n",
      "Average ideal run temperature days for Castle Rock: 228\n",
      "Average ideal run temperature days for North Bend: 318\n",
      "Average ideal run temperature days for Bozeman: 223\n",
      "Average ideal run temperature days for Lebanon: 172\n",
      "Average ideal run temperature days for New Haven: 165\n",
      "Average ideal run temperature days for New York City: 151\n",
      "Average ideal run temperature days for Salt Lake City: 156\n",
      "Average ideal run temperature days for Seattle: 265\n"
     ]
    }
   ],
   "source": [
    "import aairtd as ird\n",
    "import pandas as pd\n",
    "\n",
    "# Need a larger dataset (probably everything available in \n",
    "dataset = {\n",
    "    \"Santa_Fe_Hourly_Feel_2014-2024.csv\": \"US/Mountain\",\n",
    "    \"Laramie_Hourly_Feel_2014-2024.csv\": \"US/Mountain\",\n",
    "    \"Flagstaff_Hourly_Feel_2014-2024.csv\": \"US/Mountain\",\n",
    "    \"Colorado_Springs_Hourly_Feel_2014-2024.csv\": \"US/Mountain\",\n",
    "    \"Cheyenne_Hourly_Feel_2014-2024.csv\": \"US/Mountain\",\n",
    "    \"Castle_Rock_Hourly_Feel_2014-2024.csv\": \"US/Mountain\",\n",
    "    \"North_Bend_Hourly_Feel_2014-2024.csv\": \"US/Pacific\",\n",
    "    \"Bozeman_Hourly_Feel_2014-2024.csv\": \"US/Mountain\",\n",
    "    \"Lebanon_Hourly_Feel_2014-2024.csv\": \"US/Eastern\",\n",
    "    \"New_Haven_Hourly_Feel_2014-2024.csv\": \"US/Eastern\",\n",
    "    \"New_York_City_Hourly_Feel_2014-2024.csv\": \"US/Eastern\",\n",
    "    \"Salt_Lake_City_Hourly_Feel_2014-2024.csv\": \"US/Mountain\",\n",
    "    \"Seattle_Hourly_Feel_2014-2024.csv\": \"US/Pacific\"\n",
    "}\n",
    "\n",
    "# Initialize a dictionary to store the results\n",
    "results = {}\n",
    "\n",
    "# Loop through the dataset dictionary and call the function\n",
    "for file_name, time_zone in dataset.items():\n",
    "    # Call the function with the file path and time zone\n",
    "    average_days = ird.average_annual_ideal_run_temp_days(file_name, time_zone)\n",
    "    city_name = file_name.split(\"_Hourly_Feel_2014-2024.csv\")[0]\n",
    "    city_name = city_name.replace(\"_\", \" \")\n",
    "    \n",
    "    if city_name == \"Hanover\":  # Check details for Hanover\n",
    "        print(f\"Debugging Hanover:\")\n",
    "        print(f\"Timezone: {time_zone}\")\n",
    "        print(f\"File: {file_name}\")\n",
    "        print(f\"Average days calculated: {average_days}\")\n",
    "    \n",
    "    # Store the result in the results dictionary\n",
    "    results[city_name] = average_days\n",
    "\n",
    "# Print the results\n",
    "for city, avg_days in results.items():\n",
    "    print(f\"Average ideal run temperature days for {city}: {avg_days:.0f}\") "
   ]
  },
  {
   "cell_type": "code",
   "execution_count": 7,
   "id": "075b27f3-2de2-4292-ab24-943f42249dfe",
   "metadata": {},
   "outputs": [],
   "source": [
    "# Function to iterate over dataset and write all results to a CSV\n",
    "def write_all_results_to_csv(dataset, output_path):\n",
    "    \"\"\"Iterate over the dataset and write ICAO codes and aairtd to a CSV file.\"\"\"\n",
    "    results = []\n",
    "\n",
    "    for file_path, time_zone in dataset.items():\n",
    "        icao_code = ird.call_sign(file_path)\n",
    "        aairtd = ird.average_annual_ideal_run_temp_days(file_path, time_zone)\n",
    "        \n",
    "        # Append the result as a dictionary\n",
    "        results.append({\"icao_code\": icao_code, \"aairtd\": aairtd})\n",
    "    \n",
    "    # Convert results to a DataFrame and write to CSV\n",
    "    results_df = pd.DataFrame(results)\n",
    "    results_df.to_csv(output_path, index=False)\n",
    "\n",
    "# Example usage\n",
    "dataset = {\n",
    "    \"Santa_Fe_Hourly_Feel_2014-2024.csv\": \"US/Mountain\",\n",
    "    \"Laramie_Hourly_Feel_2014-2024.csv\": \"US/Mountain\",\n",
    "    \"Flagstaff_Hourly_Feel_2014-2024.csv\": \"US/Mountain\",\n",
    "    \"Colorado_Springs_Hourly_Feel_2014-2024.csv\": \"US/Mountain\",\n",
    "    \"Cheyenne_Hourly_Feel_2014-2024.csv\": \"US/Mountain\",\n",
    "    \"Castle_Rock_Hourly_Feel_2014-2024.csv\": \"US/Mountain\",\n",
    "    \"North_Bend_Hourly_Feel_2014-2024.csv\": \"US/Pacific\",\n",
    "    \"Bozeman_Hourly_Feel_2014-2024.csv\": \"US/Mountain\",\n",
    "    \"Lebanon_Hourly_Feel_2014-2024.csv\": \"US/Eastern\",\n",
    "    \"New_Haven_Hourly_Feel_2014-2024.csv\": \"US/Eastern\",\n",
    "    \"New_York_City_Hourly_Feel_2014-2024.csv\": \"US/Eastern\",\n",
    "    \"Salt_Lake_City_Hourly_Feel_2014-2024.csv\": \"US/Mountain\",\n",
    "    \"Seattle_Hourly_Feel_2014-2024.csv\": \"US/Pacific\"\n",
    "}\n",
    "output_path = \"test_results.csv\"  # Path to the output CSV file\n",
    "write_all_results_to_csv(dataset, output_path)"
   ]
  },
  {
   "cell_type": "code",
   "execution_count": null,
   "id": "ae883633-bfde-4c9a-a40c-cf5284a37493",
   "metadata": {},
   "outputs": [],
   "source": []
  }
 ],
 "metadata": {
  "kernelspec": {
   "display_name": "Python 3 (ipykernel)",
   "language": "python",
   "name": "python3"
  },
  "language_info": {
   "codemirror_mode": {
    "name": "ipython",
    "version": 3
   },
   "file_extension": ".py",
   "mimetype": "text/x-python",
   "name": "python",
   "nbconvert_exporter": "python",
   "pygments_lexer": "ipython3",
   "version": "3.12.7"
  }
 },
 "nbformat": 4,
 "nbformat_minor": 5
}
