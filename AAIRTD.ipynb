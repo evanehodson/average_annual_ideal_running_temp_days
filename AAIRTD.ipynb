{
 "cells": [
  {
   "cell_type": "code",
   "execution_count": 35,
   "id": "053a15e9-48c4-4f58-a3ca-748259242fab",
   "metadata": {},
   "outputs": [
    {
     "name": "stdout",
     "output_type": "stream",
     "text": [
      "Average ideal run temperature days for Santa Fe: 267\n",
      "Average ideal run temperature days for Laramie: 224\n",
      "Average ideal run temperature days for Flagstaff: 263\n",
      "Average ideal run temperature days for Colorado Springs: 238\n",
      "Average ideal run temperature days for Cheyenne: 214\n",
      "Average ideal run temperature days for Castle Rock: 228\n"
     ]
    }
   ],
   "source": [
    "import pandas as pd\n",
    "\n",
    "# Function to load data from CSV\n",
    "def load_data(file_path):\n",
    "    \"\"\"Load specific columns from a CSV file.\"\"\"\n",
    "    return pd.read_csv(file_path, usecols=[1, 2])\n",
    "\n",
    "# Function to preprocess data types\n",
    "def preprocess_data(data):\n",
    "    \"\"\"Convert columns to appropriate data types.\"\"\"\n",
    "    data[\"valid\"] = pd.to_datetime(data[\"valid\"], errors=\"coerce\")\n",
    "    data[\"feel\"] = pd.to_numeric(data[\"feel\"], errors=\"coerce\")\n",
    "    return data\n",
    "\n",
    "# Function to localize and convert time to a specific timezone\n",
    "def convert_to_timezone(data, time_zone):\n",
    "    \"\"\"Convert datetime column to specified timezone and remove timezone information.\"\"\"\n",
    "    data[\"valid\"] = data[\"valid\"].dt.tz_localize(\"UTC\").dt.tz_convert(time_zone)\n",
    "    data[\"valid\"] = data[\"valid\"].dt.tz_localize(None)\n",
    "    return data\n",
    "\n",
    "# Function to filter data for daylight hours (6 am - 6 pm)\n",
    "def filter_daylight_hours(data):\n",
    "    \"\"\"Filter data for times between 6 am and 6 pm.\"\"\"\n",
    "    return data[(data[\"valid\"].dt.hour >= 6) & (data[\"valid\"].dt.hour < 18)]\n",
    "\n",
    "# Function to filter for ideal running temperatures\n",
    "def filter_ideal_temps(data):\n",
    "    \"\"\"Filter data for temperatures between 50 and 63.5 degrees.\"\"\"\n",
    "    return data[(data[\"feel\"] >= 50) & (data[\"feel\"] <= 63.5)]\n",
    "\n",
    "# Function to identify complete years in the dataset\n",
    "def get_complete_years(data):\n",
    "    \"\"\"Identify years with data spanning from January to December.\"\"\"\n",
    "    years = data[\"valid\"].dt.year.unique()\n",
    "    complete_years = []\n",
    "    \n",
    "    for year in years:\n",
    "        year_data = data[data[\"valid\"].dt.year == year]\n",
    "        if (year_data[\"valid\"].dt.month.min() == 1) and (year_data[\"valid\"].dt.month.max() == 12):\n",
    "            complete_years.append(year)\n",
    "            \n",
    "    return complete_years\n",
    "\n",
    "# Function to filter data to include only complete years\n",
    "def filter_complete_years(data, complete_years):\n",
    "    \"\"\"Filter data to include only entries from complete years.\"\"\"\n",
    "    return data[data[\"valid\"].dt.year.isin(complete_years)]\n",
    "\n",
    "# Function to calculate the average annual ideal running temperature days\n",
    "def calculate_average_ideal_days_per_year(filtered_data, complete_years):\n",
    "    \"\"\"Calculate the average number of ideal temperature days per year.\"\"\"\n",
    "    count_days = filtered_data[\"valid\"].dt.date.nunique()\n",
    "    num_years = len(complete_years)\n",
    "    return count_days / num_years if num_years > 0 else 0\n",
    "\n",
    "# Main function to execute the full pipeline\n",
    "def average_annual_ideal_run_temp_days(file_path, time_zone):\n",
    "    \"\"\"Calculate the average annual ideal run temperature days for the dataset.\"\"\"\n",
    "    data = load_data(file_path)\n",
    "    data = preprocess_data(data)\n",
    "    data = convert_to_timezone(data, time_zone)\n",
    "    data_daylight = filter_daylight_hours(data)\n",
    "    filtered_data = filter_ideal_temps(data_daylight)\n",
    "    complete_years = get_complete_years(filtered_data)\n",
    "    complete_data = filter_complete_years(filtered_data, complete_years)\n",
    "    return calculate_average_ideal_days_per_year(complete_data, complete_years)"
   ]
  },
  {
   "cell_type": "markdown",
   "id": "2945c58c-27a5-409f-82fb-be12f2f18ae4",
   "metadata": {},
   "source": [
    "Let's turn this into a function so we can do the same thing for all our other data"
   ]
  },
  {
   "cell_type": "code",
   "execution_count": 36,
   "id": "cacab752-575b-44fe-83a7-7ea84d141d60",
   "metadata": {},
   "outputs": [
    {
     "name": "stdout",
     "output_type": "stream",
     "text": [
      "Average ideal run temperature days for Santa Fe: 267\n",
      "Average ideal run temperature days for Laramie: 224\n",
      "Average ideal run temperature days for Flagstaff: 263\n",
      "Average ideal run temperature days for Colorado Springs: 238\n",
      "Average ideal run temperature days for Cheyenne: 214\n",
      "Average ideal run temperature days for Castle Rock: 228\n"
     ]
    }
   ],
   "source": [
    "# Initialize a dictionary to store the results\n",
    "results = {}\n",
    "\n",
    "# Loop through the dataset dictionary and call the function\n",
    "for file_name, time_zone in dataset.items():\n",
    "    # Call the function with the file path and time zone\n",
    "    average_days = average_annual_ideal_run_temp_days(file_name, time_zone)\n",
    "    city_name = file_name.split(\"_Hourly_Feel_2014-2024.csv\")[0]\n",
    "    city_name = city_name.replace(\"_\", \" \")\n",
    "    # Store the result in the results dictionary\n",
    "    results[city_name] = average_days\n",
    "\n",
    "# Print the results\n",
    "for city, avg_days in results.items():\n",
    "    print(f\"Average ideal run temperature days for {city}: {avg_days:.0f}\") "
   ]
  },
  {
   "cell_type": "code",
   "execution_count": null,
   "id": "e3ecf4a8-4245-41b5-b2fe-9336df042f8c",
   "metadata": {},
   "outputs": [],
   "source": []
  }
 ],
 "metadata": {
  "kernelspec": {
   "display_name": "Python 3 (ipykernel)",
   "language": "python",
   "name": "python3"
  },
  "language_info": {
   "codemirror_mode": {
    "name": "ipython",
    "version": 3
   },
   "file_extension": ".py",
   "mimetype": "text/x-python",
   "name": "python",
   "nbconvert_exporter": "python",
   "pygments_lexer": "ipython3",
   "version": "3.12.7"
  }
 },
 "nbformat": 4,
 "nbformat_minor": 5
}
