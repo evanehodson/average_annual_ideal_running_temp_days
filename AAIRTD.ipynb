{
 "cells": [
  {
   "cell_type": "code",
   "execution_count": 35,
   "id": "053a15e9-48c4-4f58-a3ca-748259242fab",
   "metadata": {},
   "outputs": [
    {
     "name": "stdout",
     "output_type": "stream",
     "text": [
      "Average ideal run temperature days for Santa Fe: 267\n",
      "Average ideal run temperature days for Laramie: 224\n",
      "Average ideal run temperature days for Flagstaff: 263\n",
      "Average ideal run temperature days for Colorado Springs: 238\n",
      "Average ideal run temperature days for Cheyenne: 214\n",
      "Average ideal run temperature days for Castle Rock: 228\n"
     ]
    }
   ],
   "source": [
    "import pandas as pd\n",
    "\n",
    "\n",
    "def average_annual_ideal_run_temp_days(file_path, time_zone):\n",
    "    # Read the data from the CSV file\n",
    "    data = pd.read_csv(file_path, usecols=[1, 2])\n",
    "\n",
    "    # Convert columns to their correct formats\n",
    "    data[\"valid\"] = pd.to_datetime(data[\"valid\"], errors=\"coerce\")\n",
    "    data[\"feel\"] = pd.to_numeric(data[\"feel\"], errors=\"coerce\")\n",
    "\n",
    "    # Localize to UTC and convert to local time\n",
    "    data[\"valid\"] = data[\"valid\"].dt.tz_localize(\"UTC\").dt.tz_convert(time_zone)\n",
    "    # Remove timezone information to get naive datetime\n",
    "    data[\"valid\"] = data[\"valid\"].dt.tz_localize(None)\n",
    "\n",
    "    # Filter to include only daylight hours (6 am to 6 pm)\n",
    "    data_daylight = data[(data[\"valid\"].dt.hour >= 6) & (data[\"valid\"].dt.hour < 18)]\n",
    "\n",
    "    # Filter to include only temperatures between 50 and 63.5\n",
    "    filtered_data = data_daylight[(data_daylight[\"feel\"] >= 50) & (data_daylight[\"feel\"] <= 63.5)]\n",
    "\n",
    "    # Extract year information and count only complete years\n",
    "    years = filtered_data[\"valid\"].dt.year.unique()\n",
    "    complete_years = []\n",
    "\n",
    "    for year in years:\n",
    "        # Filter data for each specific year\n",
    "        year_data = filtered_data[filtered_data[\"valid\"].dt.year == year]\n",
    "        \n",
    "        # Check if the year has data for both January and December (indicating it’s a full year)\n",
    "        if (year_data[\"valid\"].dt.month.min() == 1) and (year_data[\"valid\"].dt.month.max() == 12):\n",
    "            complete_years.append(year)\n",
    "\n",
    "    # Filter data to include only rows from complete years\n",
    "    complete_data = filtered_data[filtered_data[\"valid\"].dt.year.isin(complete_years)]\n",
    "\n",
    "    # Count the number of unique days with ideal temperatures\n",
    "    count_days = complete_data[\"valid\"].dt.date.nunique()\n",
    "\n",
    "    # Calculate the average number of ideal running days per year\n",
    "    num_years = len(complete_years)\n",
    "    average_days_per_year = count_days / num_years if num_years > 0 else 0\n",
    "\n",
    "    return average_days_per_year\n",
    "\n",
    "# Initialize a dictionary to store the results\n",
    "results = {}\n",
    "\n",
    "# Loop through the dataset dictionary and call the function\n",
    "for file_name, time_zone in dataset.items():\n",
    "    # Call the function with the file path and time zone\n",
    "    average_days = average_annual_ideal_run_temp_days(file_name, time_zone)\n",
    "    city_name = file_name.split(\"_Hourly_Feel_2014-2024.csv\")[0]\n",
    "    city_name = city_name.replace(\"_\", \" \"\n",
    "    # Store the result in the results dictionary\n",
    "    results[city_name] = average_days\n",
    "\n",
    "# Print the results\n",
    "for city, avg_days in results.items():\n",
    "    print(f\"Average ideal run temperature days for {city}: {avg_days:.0f}\") "
   ]
  },
  {
   "cell_type": "markdown",
   "id": "2945c58c-27a5-409f-82fb-be12f2f18ae4",
   "metadata": {},
   "source": [
    "Let's turn this into a function so we can do the same thing for all our other data"
   ]
  },
  {
   "cell_type": "code",
   "execution_count": 36,
   "id": "cacab752-575b-44fe-83a7-7ea84d141d60",
   "metadata": {},
   "outputs": [
    {
     "name": "stdout",
     "output_type": "stream",
     "text": [
      "Average ideal run temperature days for Santa Fe: 267\n",
      "Average ideal run temperature days for Laramie: 224\n",
      "Average ideal run temperature days for Flagstaff: 263\n",
      "Average ideal run temperature days for Colorado Springs: 238\n",
      "Average ideal run temperature days for Cheyenne: 214\n",
      "Average ideal run temperature days for Castle Rock: 228\n"
     ]
    }
   ],
   "source": [
    "# Initialize a dictionary to store the results\n",
    "results = {}\n",
    "\n",
    "# Loop through the dataset dictionary and call the function\n",
    "for file_name, time_zone in dataset.items():\n",
    "    # Call the function with the file path and time zone\n",
    "    average_days = average_annual_ideal_run_temp_days(file_name, time_zone)\n",
    "    city_name = file_name.split(\"_Hourly_Feel_2014-2024.csv\")[0]\n",
    "    city_name = city_name.replace(\"_\", \" \")\n",
    "    # Store the result in the results dictionary\n",
    "    results[city_name] = average_days\n",
    "\n",
    "# Print the results\n",
    "for city, avg_days in results.items():\n",
    "    print(f\"Average ideal run temperature days for {city}: {avg_days:.0f}\") "
   ]
  },
  {
   "cell_type": "code",
   "execution_count": 37,
   "id": "e3ecf4a8-4245-41b5-b2fe-9336df042f8c",
   "metadata": {},
   "outputs": [
    {
     "name": "stdout",
     "output_type": "stream",
     "text": [
      "Average ideal run temperature days for Santa Fe: 267\n",
      "Average ideal run temperature days for Laramie: 224\n",
      "Average ideal run temperature days for Flagstaff: 263\n",
      "Average ideal run temperature days for Colorado Springs: 238\n",
      "Average ideal run temperature days for Cheyenne: 214\n",
      "Average ideal run temperature days for Castle Rock: 228\n"
     ]
    }
   ],
   "source": []
  },
  {
   "cell_type": "code",
   "execution_count": null,
   "id": "6243958f-b478-4bfe-a4ce-8038e460381c",
   "metadata": {},
   "outputs": [],
   "source": []
  }
 ],
 "metadata": {
  "kernelspec": {
   "display_name": "Python 3 (ipykernel)",
   "language": "python",
   "name": "python3"
  },
  "language_info": {
   "codemirror_mode": {
    "name": "ipython",
    "version": 3
   },
   "file_extension": ".py",
   "mimetype": "text/x-python",
   "name": "python",
   "nbconvert_exporter": "python",
   "pygments_lexer": "ipython3",
   "version": "3.12.7"
  }
 },
 "nbformat": 4,
 "nbformat_minor": 5
}
